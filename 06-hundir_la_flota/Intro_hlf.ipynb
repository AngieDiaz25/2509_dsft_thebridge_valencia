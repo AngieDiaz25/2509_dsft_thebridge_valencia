{
 "cells": [
  {
   "cell_type": "markdown",
   "metadata": {},
   "source": [
    "![imagen](./img/hundir-la-flota-juego-de-mesa.jpg)"
   ]
  },
  {
   "cell_type": "markdown",
   "metadata": {},
   "source": [
    "En esta entrega vas a crear tu propio juego de **Hundir la flota** en Python. \n",
    "[Aquí](http://es.battleship-game.org/) podrás probarlo online."
   ]
  },
  {
   "attachments": {},
   "cell_type": "markdown",
   "metadata": {},
   "source": [
    "### En clase\n",
    "1. Crea la función `crear_tablero(tamaño)`, un tablero por defecto de 10x10 relleno del carácter \"_\" con numpy.\n",
    "2. Crea la función `colocar_barco(barco, tablero)`, que recibirá la lista de casillas de un barco y el tablero donde colocarlo. Prueba primero a posicionar un par de barcos por ejemplo en [(0,1), (1,1)] y [(1,3), (1,4), (1,5), (1,6)]. Los barcos serán Os mayúsculas. Como ves, un barco de dos posiciones de eslora y otro de cuatro.\n",
    "3. Crea la función `disparar(casilla, tablero)`, si el disparo acierta en un barco sustituye la O por una X (tocado), si es agua, sustituye la _ por una A (Agua). Prueba primero a disparar el barco de 2 casillas.\n",
    "4. Crea la función `crear_barco(eslora)`, que deberá crear una lista de casillas de un barco en función a la eslora, de forma aleatoria.\n",
    "\n",
    "### Proyecto individual\n",
    "1. Crea la función `colocar_barcos(tablero)`, que deberá de colocar la lista de barcos generados de forma aleatoria (6 barcos en total (3 barcos de eslora 2, 2 de eslora 3 y 1 eslora 4)) ¡Mucho ojo con barcos que estén superpuestos (no pueden ocupar dos barcos la misma casilla) o barcos que se salgan del tablero!\n",
    "2. Escribe el flujo completo del programa, con la dinámica de turnos y funcionalidades necesarios para jugar contra la máquina (dispara a tu tablero de forma aleatoria). Crea todas las funciones que necesites y aplica todo lo aprendido que te sea útil.\n",
    "3. Encapsula todo en un `main.py` y un `utils.py` para ejecutarlo desde terminal.\n",
    "4. Sube tu proyecto a un repositorio de github y prepara una demo (solo se podrá enseñar desde terminal) para la presentación de tu proyecto."
   ]
  },
  {
   "cell_type": "markdown",
   "metadata": {},
   "source": [
    "## Presentación\n",
    "Cada uno realizará una presentación el **martes 30 de septiembre**, donde se contarán con **10 minutos máximo**, importante ceñirse al tiempo. Se tendrá que enseñar:\n",
    "1. El link git clone del repositorio de github a tu ordenador y explicar las partes más relevantes del código.\n",
    "2. Una demo donde se muestre el correcto funcionamiento del código para jugar, ejecutándose desde terminal.\n",
    "3. Explicación de la lógica de las partes más relevantes del código desarrollado."
   ]
  },
  {
   "cell_type": "code",
   "execution_count": 64,
   "metadata": {},
   "outputs": [],
   "source": [
    "#pip install numpy  "
   ]
  },
  {
   "cell_type": "code",
   "execution_count": 65,
   "metadata": {},
   "outputs": [],
   "source": [
    "import numpy as np "
   ]
  },
  {
   "cell_type": "code",
   "execution_count": 66,
   "metadata": {},
   "outputs": [
    {
     "data": {
      "text/plain": [
       "array([['_', '_', '_', '_', '_', '_', '_', '_', '_', '_'],\n",
       "       ['_', '_', '_', '_', '_', '_', '_', '_', '_', '_'],\n",
       "       ['_', '_', '_', '_', '_', '_', '_', '_', '_', '_'],\n",
       "       ['_', '_', '_', '_', '_', '_', '_', '_', '_', '_'],\n",
       "       ['_', '_', '_', '_', '_', '_', '_', '_', '_', '_'],\n",
       "       ['_', '_', '_', '_', '_', '_', '_', '_', '_', '_'],\n",
       "       ['_', '_', '_', '_', '_', '_', '_', '_', '_', '_'],\n",
       "       ['_', '_', '_', '_', '_', '_', '_', '_', '_', '_'],\n",
       "       ['_', '_', '_', '_', '_', '_', '_', '_', '_', '_'],\n",
       "       ['_', '_', '_', '_', '_', '_', '_', '_', '_', '_']], dtype='<U1')"
      ]
     },
     "execution_count": 66,
     "metadata": {},
     "output_type": "execute_result"
    }
   ],
   "source": [
    "np.full((10 ,10), \"_\")"
   ]
  },
  {
   "cell_type": "code",
   "execution_count": 67,
   "metadata": {},
   "outputs": [],
   "source": [
    "def crear_tablero(tamaño=(10,10)): \n",
    "    return np.full(tamaño, \"_\") \n"
   ]
  },
  {
   "cell_type": "code",
   "execution_count": 68,
   "metadata": {},
   "outputs": [],
   "source": [
    "def crear_tablero(tamaño=10): \n",
    "    return np.full((tamaño, tamaño), \"_\")"
   ]
  },
  {
   "cell_type": "code",
   "execution_count": 69,
   "metadata": {},
   "outputs": [
    {
     "name": "stdout",
     "output_type": "stream",
     "text": [
      "[['_' '_' '_' '_' '_' '_' '_' '_' '_' '_']\n",
      " ['_' '_' '_' '_' '_' '_' '_' '_' '_' '_']\n",
      " ['_' '_' '_' '_' '_' '_' '_' '_' '_' '_']\n",
      " ['_' '_' '_' '_' '_' '_' '_' '_' '_' '_']\n",
      " ['_' '_' '_' '_' '_' '_' '_' '_' '_' '_']\n",
      " ['_' '_' '_' '_' '_' '_' '_' '_' '_' '_']\n",
      " ['_' '_' '_' '_' '_' '_' '_' '_' '_' '_']\n",
      " ['_' '_' '_' '_' '_' '_' '_' '_' '_' '_']\n",
      " ['_' '_' '_' '_' '_' '_' '_' '_' '_' '_']\n",
      " ['_' '_' '_' '_' '_' '_' '_' '_' '_' '_']]\n"
     ]
    }
   ],
   "source": [
    "tablero = crear_tablero()\n",
    "print(tablero)"
   ]
  },
  {
   "cell_type": "code",
   "execution_count": 70,
   "metadata": {},
   "outputs": [],
   "source": [
    "def crear_tablero2(tamaño=10):\n",
    "    tablero = []\n",
    "    for x in range(tamaño):\n",
    "        fila = [\"_\"]*tamaño \n",
    "        tablero.append(fila)\n",
    "    return tablero"
   ]
  },
  {
   "cell_type": "code",
   "execution_count": 71,
   "metadata": {},
   "outputs": [
    {
     "data": {
      "text/plain": [
       "[['_', '_', '_', '_', '_', '_', '_', '_', '_', '_'],\n",
       " ['_', '_', '_', '_', '_', '_', '_', '_', '_', '_'],\n",
       " ['_', '_', '_', '_', '_', '_', '_', '_', '_', '_'],\n",
       " ['_', '_', '_', '_', '_', '_', '_', '_', '_', '_'],\n",
       " ['_', '_', '_', '_', '_', '_', '_', '_', '_', '_'],\n",
       " ['_', '_', '_', '_', '_', '_', '_', '_', '_', '_'],\n",
       " ['_', '_', '_', '_', '_', '_', '_', '_', '_', '_'],\n",
       " ['_', '_', '_', '_', '_', '_', '_', '_', '_', '_'],\n",
       " ['_', '_', '_', '_', '_', '_', '_', '_', '_', '_'],\n",
       " ['_', '_', '_', '_', '_', '_', '_', '_', '_', '_']]"
      ]
     },
     "execution_count": 71,
     "metadata": {},
     "output_type": "execute_result"
    }
   ],
   "source": [
    "crear_tablero2()"
   ]
  },
  {
   "cell_type": "code",
   "execution_count": 72,
   "metadata": {},
   "outputs": [],
   "source": [
    "# Definimos la función colocar_barco que recibe:\n",
    "# - barco: una lista de coordenadas (tuplas con fila y columna)\n",
    "# - tablero: la matriz/lista donde vamos a colocar el barco\n",
    "def colocar_barco(barco, tablero):\n",
    "    # Recorremos cada coordenada del barco\n",
    "    for casilla in barco:\n",
    "        # Desempaquetamos la tupla en fila y columna\n",
    "        fila, columna = casilla \n",
    "        # Marcamos en el tablero esa posición con 'O' (representa un barco)\n",
    "        tablero[fila][columna] = 'O'\n"
   ]
  },
  {
   "cell_type": "code",
   "execution_count": 73,
   "metadata": {},
   "outputs": [
    {
     "name": "stdout",
     "output_type": "stream",
     "text": [
      "[['_' 'O' '_' '_' '_' '_' '_' '_' '_' '_']\n",
      " ['_' 'O' '_' '_' '_' 'O' '_' '_' '_' '_']\n",
      " ['_' '_' '_' '_' '_' '_' '_' '_' '_' '_']\n",
      " ['_' '_' '_' '_' '_' '_' '_' '_' '_' '_']\n",
      " ['_' '_' '_' '_' '_' '_' '_' '_' '_' '_']\n",
      " ['_' '_' '_' '_' '_' '_' '_' '_' '_' '_']\n",
      " ['_' '_' '_' '_' '_' '_' '_' '_' '_' '_']\n",
      " ['_' '_' '_' '_' '_' '_' '_' '_' '_' '_']\n",
      " ['_' '_' '_' '_' '_' '_' '_' '_' '_' '_']\n",
      " ['_' '_' '_' '_' '_' '_' '_' '_' '_' '_']]\n"
     ]
    }
   ],
   "source": [
    "#ejemplo de uso  \n",
    "tablero = crear_tablero() \n",
    "colocar_barco([(0,1), (1,1),(1,5)], tablero)\n",
    "\n",
    "print(tablero)"
   ]
  },
  {
   "cell_type": "code",
   "execution_count": 75,
   "metadata": {},
   "outputs": [
    {
     "name": "stdout",
     "output_type": "stream",
     "text": [
      "[['_' 'O' '_' '_' 'A' '_' '_' '_' '_' '_']\n",
      " ['_' 'O' '_' '_' '_' 'O' '_' '_' '_' '_']\n",
      " ['_' '_' '_' '_' '_' '_' '_' '_' '_' '_']\n",
      " ['_' '_' '_' '_' '_' '_' '_' '_' '_' '_']\n",
      " ['_' '_' '_' '_' '_' '_' '_' '_' '_' '_']\n",
      " ['_' '_' '_' '_' '_' '_' '_' '_' '_' '_']\n",
      " ['_' '_' '_' '_' '_' '_' '_' '_' '_' '_']\n",
      " ['_' '_' '_' '_' '_' '_' '_' '_' '_' '_']\n",
      " ['_' '_' '_' '_' '_' '_' '_' '_' '_' '_']\n",
      " ['_' '_' '_' '_' '_' '_' '_' '_' '_' '_']]\n",
      "None\n"
     ]
    }
   ],
   "source": [
    "def disparar(casilla, tablero):\n",
    "    fila, columna = casilla \n",
    "    if tablero [fila, columna] == \"0\":\n",
    "        tablero[fila,columna ] = \"X\"\n",
    "        return \"Tocado\" \n",
    "    \n",
    "    else:\n",
    "        tablero[fila,columna] = \"A\" \n",
    "        \n",
    "resultado = disparar((0,4), tablero)\n",
    "print(tablero)\n",
    "print(resultado)"
   ]
  },
  {
   "cell_type": "code",
   "execution_count": null,
   "metadata": {},
   "outputs": [
    {
     "name": "stdout",
     "output_type": "stream",
     "text": [
      "[(2, 2), (2, 3), (2, 4), (2, 5)]\n"
     ]
    }
   ],
   "source": [
    "# Definimos la función para crear un barco\n",
    "# eslora = longitud del barco\n",
    "# tamaño_tablero = tamaño del tablero (por defecto 10x10)\n",
    "def crear_barcos(eslora, tamaño_tablero=10):\n",
    "    import random  # importamos el módulo random para generar valores aleatorios\n",
    "\n",
    "    # Elegimos aleatoriamente si el barco será horizontal o vertical\n",
    "    orientacion = random.choice([\"horizontal\", \"vertical\"]) \n",
    "\n",
    "    # Si la orientación es horizontal\n",
    "    if orientacion == \"horizontal\":\n",
    "        # Elegimos una fila cualquiera entre 0 y tamaño_tablero - 1\n",
    "        fila = random.randint(0, tamaño_tablero - 1)\n",
    "        # Elegimos una columna inicial que permita colocar el barco completo sin salir del tablero\n",
    "        columna_inicial = random.randint(0, tamaño_tablero - eslora)\n",
    "        # Generamos las coordenadas del barco en esa fila\n",
    "        barco = [(fila, columna_inicial + i) for i in range(eslora)] \n",
    "\n",
    "    # Si la orientación es vertical\n",
    "    else: \n",
    "        # Elegimos una fila inicial que permita colocar el barco completo hacia abajo\n",
    "        fila_inicial = random.randint(0, tamaño_tablero - eslora) \n",
    "        # Elegimos una columna cualquiera entre 0 y tamaño_tablero - 1\n",
    "        columna = random.randint(0, tamaño_tablero - 1)\n",
    "        # Generamos las coordenadas del barco en esa columna\n",
    "        barco = [(fila_inicial + i, columna) for i in range(eslora)]\n",
    "    \n",
    "    # Devolvemos la lista de coordenadas del barco\n",
    "    return barco\n",
    "\n",
    "\n",
    "# Creamos un barco de longitud 4\n",
    "barco = crear_barcos(4)\n",
    "\n",
    "# Mostramos las coordenadas generadas del barco\n",
    "print(barco)\n",
    "\n",
    "        \n",
    "        "
   ]
  },
  {
   "cell_type": "code",
   "execution_count": null,
   "metadata": {},
   "outputs": [],
   "source": [
    "def crear_barco_aleatorio(eslora):\n",
    "    fila = random.randint(0,9)\n",
    "    columna = random.randint(0.9)\n",
    "    barco_aleatorio = [(fila, columna)]\n",
    "    \n",
    "    orientacion = random.choice([\"horizontal\" , \"vertical\"])\n",
    "    while len(barco_aleatorio)< eslora:\n",
    "        if orientacion == \"horizontal\":\n",
    "            columna = columna + 1 \n",
    "            barco_aleatorio.append((fila, columna))\n",
    "            \n",
    "        else:\n",
    "            fila = fila + 1 \n",
    "            barco_aleatorio.append((fila, columna))\n",
    "            \n",
    "    return \n",
    "            "
   ]
  }
 ],
 "metadata": {
  "kernelspec": {
   "display_name": "Python 3",
   "language": "python",
   "name": "python3"
  },
  "language_info": {
   "codemirror_mode": {
    "name": "ipython",
    "version": 3
   },
   "file_extension": ".py",
   "mimetype": "text/x-python",
   "name": "python",
   "nbconvert_exporter": "python",
   "pygments_lexer": "ipython3",
   "version": "3.11.9"
  },
  "orig_nbformat": 4
 },
 "nbformat": 4,
 "nbformat_minor": 2
}
