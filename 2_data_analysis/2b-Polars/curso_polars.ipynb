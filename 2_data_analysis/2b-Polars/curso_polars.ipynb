{
 "cells": [
  {
   "cell_type": "markdown",
   "id": "72146ab7",
   "metadata": {},
   "source": [
    "# Polars\n",
    "By Borja Barber - Lead instructor DS\n",
    "\n",
    "En este notebook aprenderás a utilizar **Polars**, una biblioteca de Python para manipular datos tabulares. Polars combina la flexibilidad del ecosistema Python con la velocidad de **Rust** y la eficiencia de los procesamientos *vectorizados* y *columnares*. Según la documentación oficial, Polars es una biblioteca de manipulación de datos orientada a columnas cuyo motor de consulta multi‑hilo escrito en Rust permite paralelizar las operaciones y aprovechar la memoria caché de manera coherente. La API está pensada para ser expresiva y fácil de usar, con nombres familiares para quienes ya han trabajado con otras bibliotecas de datos.\n",
    "\n",
    "> **Objetivo**: recorreremos desde los conceptos básicos hasta características avanzadas (lazy evaluation, agrupaciones, uniones, transformaciones y manejo de series temporales), proporcionando ejemplos prácticos y explicaciones claras en español.\n",
    "\n"
   ]
  },
  {
   "cell_type": "markdown",
   "id": "2c651e70",
   "metadata": {},
   "source": [
    "## Introducción a Polars\n",
    "\n",
    "Polars es una biblioteca de código abierto para el procesamiento de datos, diseñada para ofrecer un alto rendimiento en un único equipo. Algunas de sus características destacadas son:\n",
    "\n",
    "- **Rendimiento**: el núcleo de Polars está escrito en Rust, lo que le permite alcanzar rendimientos comparables a bibliotecas en C o C++. Gracias a su motor de consultas multi‑hilo y su procesamiento vectorizado, Polars aprovecha todos los núcleos disponibles de la CPU.\n",
    "- **Modelo columna**: Polars utiliza almacenamiento en columnas y el formato de memoria **Apache Arrow**, lo que facilita la integración con otras herramientas y permite ejecutar consultas vectorizadas de forma eficiente.\n",
    "- **API familiar**: si ya conoces `pandas`, te resultará sencilla la transición porque los nombres de métodos y conceptos son similares. Sin embargo, Polars introduce expresiones y contextos que proporcionan un lenguaje declarativo y más optimizado.\n",
    "- **Instalación flexible**: se puede instalar la versión básica o incluir dependencias opcionales para convertir datos a `pandas` o `numpy`.\n"
   ]
  },
  {
   "cell_type": "markdown",
   "id": "6e687722",
   "metadata": {},
   "source": [
    "## Instalación de Polars\n",
    "\n",
    "Para instalar Polars con `pip` basta ejecutar en la terminal (desde un entorno virtual si es posible):\n",
    "```bash\n",
    "python -m pip install polars\n",
    "```\n",
    "Esto instala la versión mínima. Si quieres convertir DataFrames de Polars a `pandas` o `numpy`, añade las dependencias opcionales como sigue【248539729197006†L212-L236】:\n",
    "```bash\n",
    "python -m pip install \"polars[numpy, pandas]\"\n",
    "```\n",
    "También puedes instalar todas las funcionalidades con `polars[all]` si planeas usar toda la gama de características."
   ]
  },
  {
   "cell_type": "code",
   "execution_count": null,
   "id": "40a3f626",
   "metadata": {},
   "outputs": [],
   "source": [
    "# Instalación (esta celda no se ejecuta automáticamente, sirve como referencia)\n",
    "# Para instalar Polars en tu entorno usa el comando de pip en una terminal:\n",
    "# !python -m pip install polars[numpy, pandas]\n",
    "\n",
    "# Una vez instalado, puedes importarlo así:\n",
    "import polars as pl\n",
    "\n",
    "# Mostrar la versión instalada de Polars\n",
    "print(f'Versión de Polars: {pl.__version__}')\n"
   ]
  },
  {
   "cell_type": "markdown",
   "id": "b293a423",
   "metadata": {},
   "source": [
    "## Creación de DataFrames\n",
    "\n",
    "El núcleo de Polars es el `DataFrame`, una estructura bidimensional de filas y columnas. Cada columna es un `Series` con un tipo de dato concreto. Podemos construir un DataFrame a partir de un diccionario de listas o arrays. En el ejemplo siguiente generamos datos aleatorios con NumPy para ilustrar cómo crear un DataFrame y examinamos su `schema` para ver los tipos de cada columna.\n"
   ]
  },
  {
   "cell_type": "code",
   "execution_count": null,
   "id": "694db524",
   "metadata": {},
   "outputs": [],
   "source": [
    "# Importamos NumPy y Polars\n",
    "import numpy as np\n",
    "import polars as pl\n",
    "\n",
    "# Definimos el número de filas y un generador de números aleatorios\n",
    "num_rows = 5000\n",
    "rng = np.random.default_rng(seed=42)  # semilla para reproducibilidad\n",
    "\n",
    "# Creamos un diccionario con datos aleatorios\n",
    "datos_edificios = {\n",
    "    \"superficie\": rng.exponential(scale=1000, size=num_rows),  # superficie en pies cuadrados\n",
    "    \"anio\": rng.integers(low=1995, high=2023, size=num_rows),  # año de construcción\n",
    "    \"tipo_edificio\": rng.choice([\"A\", \"B\", \"C\"], size=num_rows),  # categoría\n",
    "}\n",
    "\n",
    "# Creamos el DataFrame a partir del diccionario\n",
    "edificios = pl.DataFrame(datos_edificios)\n",
    "\n",
    "# Mostramos el esquema (nombres y tipos de columnas)\n",
    "print(edificios.schema)\n",
    "\n",
    "# Visualizamos las primeras filas\n",
    "print(edificios.head())\n"
   ]
  },
  {
   "cell_type": "markdown",
   "id": "1fff7085",
   "metadata": {},
   "source": [
    "## Operaciones básicas: `select`, `filter` y `with_columns`\n",
    "\n",
    "Polars utiliza **expresiones** y **contextos**. Las expresiones (`pl.col`, `pl.lit`, etc.) describen qué se quiere hacer con las columnas, y los contextos (`select`, `filter`, `with_columns`) indican cómo se aplican esas expresiones.\n",
    "\n",
    "- **`select`** extrae columnas y permite transformarlas encadenando expresiones. Por ejemplo, podemos seleccionar una columna por nombre o aplicar operaciones como ordenar y escalar.\n",
    "- **`filter`** reduce el DataFrame según una condición. Pasa una expresión booleana y Polars devolverá solo las filas que la cumplan.\n",
    "- **`with_columns`** crea columnas nuevas o modifica las existentes mediante expresiones.\n",
    "\n",
    "A continuación se muestran algunos ejemplos."
   ]
  },
  {
   "cell_type": "code",
   "execution_count": null,
   "id": "8fe0e8db",
   "metadata": {},
   "outputs": [],
   "source": [
    "# Seleccionamos la columna 'superficie' directamente por nombre\n",
    "solo_superficie = edificios.select(\"superficie\")\n",
    "print(solo_superficie.head())\n",
    "\n",
    "# Seleccionamos la columna usando una expresión y aplicamos transformaciones:\n",
    "# - ordenamos los valores y\n",
    "# - los dividimos entre 1000 para convertir de pies cuadrados a miles de pies cuadrados\n",
    "superficie_ordenada = edificios.select((pl.col(\"superficie\").sort() / 1000).alias(\"superficie_miles\"))\n",
    "print(superficie_ordenada.head())\n",
    "\n",
    "# Filtramos edificios construidos después de 2015 y calculamos el mínimo año para comprobar\n",
    "despues_2015 = edificios.filter(pl.col(\"anio\") > 2015)\n",
    "print(despues_2015.shape)\n",
    "print(despues_2015.select(pl.col(\"anio\").min().alias(\"anio_minimo\")))\n",
    "\n",
    "# Creamos una nueva columna con el logaritmo de la superficie usando with_columns\n",
    "edificios_log = edificios.with_columns([\n",
    "    (pl.col(\"superficie\").log10()).alias(\"log_superficie\")\n",
    "])\n",
    "print(edificios_log.head())\n"
   ]
  },
  {
   "cell_type": "markdown",
   "id": "859f790b",
   "metadata": {},
   "source": [
    "## Agrupaciones y agregaciones (`group_by`)\n",
    "\n",
    "El contexto `group_by` agrupa filas según uno o varios campos y permite aplicar operaciones de agregación. Puedes calcular medias, medianas, conteos y otras funciones para cada grupo.\n",
    "\n",
    "En el ejemplo de los edificios, agruparemos por `tipo_edificio` y calcularemos:\n",
    "\n",
    "- La **media** de la superficie.\n",
    "- La **mediana** del año de construcción.\n",
    "- El **número** de edificios en cada categoría.\n"
   ]
  },
  {
   "cell_type": "code",
   "execution_count": null,
   "id": "04d5bb3e",
   "metadata": {},
   "outputs": [],
   "source": [
    "# Agrupamos por 'tipo_edificio' y calculamos estadísticas\n",
    "resumen_tipo = edificios.group_by(\"tipo_edificio\").agg([\n",
    "    pl.col(\"superficie\").mean().alias(\"media_superficie\"),\n",
    "    pl.col(\"anio\").median().alias(\"mediana_anio\"),\n",
    "    pl.count().alias(\"conteo\")\n",
    "])\n",
    "print(resumen_tipo)\n"
   ]
  },
  {
   "cell_type": "markdown",
   "id": "6d8e7117",
   "metadata": {},
   "source": [
    "## Uniones (`join`) y concatenación\n",
    "\n",
    "Polars permite unir tablas de distintas formas (inner, left, outer, cross) y concatenar DataFrames vertical u horizontalmente. Las uniones se especifican mediante el método `.join()`, indicando las columnas de unión y el tipo de join.\n",
    "\n",
    "A continuación creamos dos DataFrames de muestra y realizamos un join interno para combinar la información."
   ]
  },
  {
   "cell_type": "code",
   "execution_count": null,
   "id": "61fc9127",
   "metadata": {},
   "outputs": [],
   "source": [
    "# Creamos dos DataFrames de ejemplo\n",
    "df_izq = pl.DataFrame({\n",
    "    \"id\": [1, 2, 3],\n",
    "    \"nombre\": [\"Ana\", \"Beto\", \"Carla\"],\n",
    "})\n",
    "\n",
    "df_der = pl.DataFrame({\n",
    "    \"id\": [2, 3, 4],\n",
    "    \"ciudad\": [\"Valencia\", \"Madrid\", \"Sevilla\"],\n",
    "})\n",
    "\n",
    "# Realizamos un inner join usando la columna 'id'\n",
    "df_join = df_izq.join(df_der, on=\"id\", how=\"inner\")\n",
    "print(df_join)\n",
    "\n",
    "# Concatenamos verticalmente (apilamos filas)\n",
    "df_concat = pl.concat([df_izq, df_der.select([\"id\"]).with_columns([\n",
    "    pl.lit(None).alias(\"nombre\")\n",
    "])], how=\"vertical\")\n",
    "print(df_concat)\n"
   ]
  },
  {
   "cell_type": "markdown",
   "id": "e26ccd7a",
   "metadata": {},
   "source": [
    "## Transformaciones de forma: pivote y derribar (`pivot`, `melt`)\n",
    "\n",
    "Las tablas no siempre vienen en el formato deseado. Polars ofrece operaciones para reorganizar los datos:\n",
    "\n",
    "- **`pivot`** convierte una columna de valores en nuevas columnas, permitiendo crear tablas anchas a partir de datos longitudinales.\n",
    "- **`melt`** (o *unpivot*) realiza la operación inversa: transforma columnas en filas.\n",
    "\n",
    "A continuación un ejemplo sencillo."
   ]
  },
  {
   "cell_type": "code",
   "execution_count": null,
   "id": "a127f417",
   "metadata": {},
   "outputs": [],
   "source": [
    "# DataFrame de ventas mensuales por producto\n",
    "ventas = pl.DataFrame({\n",
    "    \"producto\": [\"A\", \"A\", \"B\", \"B\"],\n",
    "    \"mes\": [\"Enero\", \"Febrero\", \"Enero\", \"Febrero\"],\n",
    "    \"ventas\": [100, 150, 80, 120],\n",
    "})\n",
    "\n",
    "# Pivotamos para que cada producto tenga una columna por mes\n",
    "ventas_pivot = ventas.pivot(values=\"ventas\", index=\"producto\", columns=\"mes\")\n",
    "print(ventas_pivot)\n",
    "\n",
    "# Derribamos (melt) las columnas de vuelta a formato largo\n",
    "ventas_unpivot = ventas_pivot.melt(id_vars=\"producto\", value_vars=[\"Enero\", \"Febrero\"])\n",
    "print(ventas_unpivot)\n"
   ]
  },
  {
   "cell_type": "markdown",
   "id": "a337817c",
   "metadata": {},
   "source": [
    "## Manejo de series temporales\n",
    "\n",
    "Polars incluye soporte para datos de fecha y hora. Puedes convertir cadenas a fechas con `pl.col().str.strptime`, combinar filtrado y agrupación por ventanas de tiempo y realizar re‐muestreo.\n",
    "\n",
    "En el siguiente ejemplo creamos un DataFrame de temperaturas por hora, lo convertimos a un índice temporal y luego calculamos medias diarias."
   ]
  },
  {
   "cell_type": "code",
   "execution_count": null,
   "id": "10806d45",
   "metadata": {},
   "outputs": [],
   "source": [
    "# Generamos fechas por hora durante tres días\n",
    "fechas = pl.date_range(start=\"2023-01-01\", end=\"2023-01-03\", interval=\"1h\")\n",
    "\n",
    "# Simulamos valores de temperatura\n",
    "temperaturas = pl.Series(np.random.normal(loc=20, scale=5, size=len(fechas)))\n",
    "\n",
    "# Creamos el DataFrame\n",
    "clima = pl.DataFrame({\n",
    "    \"fecha\": fechas,\n",
    "    \"temperatura\": temperaturas,\n",
    "})\n",
    "\n",
    "# Convertimos la columna de fecha a tipo Date (ya viene como DateTime) y re‐muestreamos a diario\n",
    "clima_resampled = (\n",
    "    clima\n",
    "    .group_by(pl.col(\"fecha\").dt.date().alias(\"dia\"))\n",
    "    .agg(pl.col(\"temperatura\").mean().alias(\"temp_media\"))\n",
    ")\n",
    "\n",
    "print(clima_resampled)\n"
   ]
  },
  {
   "cell_type": "markdown",
   "id": "3a8628d1",
   "metadata": {},
   "source": [
    "## API *Lazy* y optimización\n",
    "\n",
    "Una de las características más potentes de Polars es su **API perezosa** (*lazy API*). En lugar de ejecutar inmediatamente cada operación, Polars construye un grafo de consultas que se optimiza antes de ser evaluado. Esto permite detectar errores de esquema antes de leer los datos y aplicar optimizaciones como el *predicate pushdown*, que aplica filtros cuanto antes para reducir el tamaño intermedio.\n",
    "\n",
    "En el siguiente ejemplo creamos un `LazyFrame`, definimos una serie de transformaciones y filtros, exploramos el plan de consulta con `.explain()` y finalmente ejecutamos la consulta con `.collect()`.\n"
   ]
  },
  {
   "cell_type": "code",
   "execution_count": null,
   "id": "038f78c2",
   "metadata": {},
   "outputs": [],
   "source": [
    "# Convertimos nuestro DataFrame 'edificios' en un LazyFrame\n",
    "edificios_lazy = edificios.lazy()\n",
    "\n",
    "# Definimos una consulta: calculamos el precio por superficie, filtramos por condiciones y ordenamos\n",
    "consulta_lazy = (\n",
    "    edificios_lazy\n",
    "    .with_columns((pl.col(\"superficie\") / 100).alias(\"superficie_100\"))\n",
    "    .filter(pl.col(\"superficie_100\") > 10)\n",
    "    .filter(pl.col(\"anio\") < 2010)\n",
    ")\n",
    "\n",
    "# Mostramos el plan de consulta (string)\n",
    "print(consulta_lazy.explain())\n",
    "\n",
    "# Ejecutamos la consulta con collect para obtener un DataFrame\n",
    "resultado = consulta_lazy.collect()\n",
    "print(resultado.head())\n"
   ]
  },
  {
   "cell_type": "markdown",
   "id": "ee64b152",
   "metadata": {},
   "source": [
    "## Interoperabilidad con pandas y NumPy\n",
    "\n",
    "Polars puede trabajar en conjunto con otras bibliotecas. Si instalas las dependencias opcionales, puedes convertir un DataFrame de Polars a un DataFrame de `pandas` o a un array de `numpy`.\n",
    "\n",
    "Esto resulta útil cuando necesitas utilizar funciones específicas de otras bibliotecas, visualización o compatibilidad con código existente."
   ]
  },
  {
   "cell_type": "code",
   "execution_count": null,
   "id": "66763497",
   "metadata": {},
   "outputs": [],
   "source": [
    "# Convertimos el DataFrame 'edificios' a pandas y a NumPy\n",
    "df_pandas = edificios.to_pandas()\n",
    "print(type(df_pandas))  # <class 'pandas.core.frame.DataFrame'>\n",
    "\n",
    "# Convertimos una columna a array de NumPy\n",
    "superficie_np = edificios.select(\"superficie\").to_numpy().flatten()\n",
    "print(type(superficie_np), superficie_np[:5])\n"
   ]
  },
  {
   "cell_type": "markdown",
   "id": "45bc28f4",
   "metadata": {},
   "source": [
    "## Conclusión\n",
    "\n",
    "Has recorrido los fundamentos de **Polars**, desde la creación y exploración de DataFrames hasta operaciones avanzadas como agrupaciones, uniones y transformaciones. También exploraste la potente **API perezosa**, que construye un plan de consulta optimizado antes de ejecutarlo. Polars aprovecha al máximo los recursos de tu equipo al ejecutar consultas en paralelo y utilizar almacenamiento columnar.\n",
    "\n",
    "Para seguir profundizando te recomendamos consultar la documentación oficial y experimentar con tus propios conjuntos de datos. ¡Ahora tienes las bases para convertirte en un maestro de Polars!"
   ]
  }
 ],
 "metadata": {
  "language_info": {
   "name": "python"
  }
 },
 "nbformat": 4,
 "nbformat_minor": 5
}
