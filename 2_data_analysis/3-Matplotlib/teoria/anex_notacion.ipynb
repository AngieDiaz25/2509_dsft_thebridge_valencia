{
  "cells": [
    {
      "cell_type": "markdown",
      "metadata": {},
      "source": [
        "# Notación Científica en Matplotlib\n",
        "\n",
        "Este notebook explica por qué Matplotlib usa notación científica por defecto y cómo controlarla."
      ]
    },
    {
      "cell_type": "markdown",
      "metadata": {},
      "source": [
        "## 1. ¿Por qué Matplotlib usa notación científica?\n",
        "\n",
        "Matplotlib usa notación científica automáticamente cuando:\n",
        "- Los valores son muy grandes (mayores a 10,000)\n",
        "- Los valores son muy pequeños (menores a 0.0001)\n",
        "- Hay un offset común entre valores (ej: 1000000, 1000001, 1000002)\n",
        "\n",
        "Esto ayuda a mantener las etiquetas de los ejes legibles y evita números muy largos."
      ]
    },
    {
      "cell_type": "code",
      "execution_count": null,
      "metadata": {},
      "outputs": [],
      "source": [
        "# Importar las librerías necesarias\n",
        "import matplotlib.pyplot as plt\n",
        "import numpy as np"
      ]
    },
    {
      "cell_type": "markdown",
      "metadata": {},
      "source": [
        "## 2. Ejemplo con números grandes (Notación científica automática)"
      ]
    },
    {
      "cell_type": "code",
      "execution_count": null,
      "metadata": {},
      "outputs": [],
      "source": [
        "# Crear datos con números muy grandes\n",
        "x = np.linspace(0, 10, 100)  # 100 puntos entre 0 y 10\n",
        "y = x * 1000000  # Multiplicar por un millón\n",
        "\n",
        "# Crear la figura y el eje\n",
        "plt.figure(figsize=(10, 6))\n",
        "\n",
        "# Graficar los datos\n",
        "plt.plot(x, y, linewidth=2, color='blue')\n",
        "\n",
        "# Añadir título y etiquetas\n",
        "plt.title('Ejemplo: Notación Científica Automática (Números Grandes)', fontsize=14, fontweight='bold')\n",
        "plt.xlabel('Valor de X', fontsize=12)\n",
        "plt.ylabel('Valor de Y', fontsize=12)\n",
        "\n",
        "# Añadir grid para mejor visualización\n",
        "plt.grid(True, alpha=0.3)\n",
        "\n",
        "# Mostrar el gráfico\n",
        "plt.tight_layout()\n",
        "plt.show()\n",
        "\n",
        "# Nota: Observa cómo el eje Y muestra \"1e7\" arriba, lo que significa \"×10^7\""
      ]
    },
    {
      "cell_type": "markdown",
      "metadata": {},
      "source": [
        "## 3. Ejemplo con números pequeños (Notación científica automática)"
      ]
    },
    {
      "cell_type": "code",
      "execution_count": null,
      "metadata": {},
      "outputs": [],
      "source": [
        "# Crear datos con números muy pequeños\n",
        "x = np.linspace(0, 10, 100)  # 100 puntos entre 0 y 10\n",
        "y = x * 0.00001  # Multiplicar por 0.00001\n",
        "\n",
        "# Crear la figura\n",
        "plt.figure(figsize=(10, 6))\n",
        "\n",
        "# Graficar los datos\n",
        "plt.plot(x, y, linewidth=2, color='red')\n",
        "\n",
        "# Añadir título y etiquetas\n",
        "plt.title('Ejemplo: Notación Científica Automática (Números Pequeños)', fontsize=14, fontweight='bold')\n",
        "plt.xlabel('Valor de X', fontsize=12)\n",
        "plt.ylabel('Valor de Y', fontsize=12)\n",
        "\n",
        "# Añadir grid\n",
        "plt.grid(True, alpha=0.3)\n",
        "\n",
        "# Mostrar el gráfico\n",
        "plt.tight_layout()\n",
        "plt.show()\n",
        "\n",
        "# Nota: El eje Y muestra \"1e-4\" que significa \"×10^-4\""
      ]
    },
    {
      "cell_type": "markdown",
      "metadata": {},
      "source": [
        "## 4. Método 1: Desactivar notación científica usando `ticklabel_format()`"
      ]
    },
    {
      "cell_type": "code",
      "execution_count": null,
      "metadata": {},
      "outputs": [],
      "source": [
        "# Crear datos con números grandes\n",
        "x = np.linspace(0, 10, 100)\n",
        "y = x * 1000000\n",
        "\n",
        "# Crear la figura\n",
        "plt.figure(figsize=(10, 6))\n",
        "\n",
        "# Graficar\n",
        "plt.plot(x, y, linewidth=2, color='green')\n",
        "\n",
        "# DESACTIVAR notación científica en el eje Y\n",
        "# style='plain' indica que use notación normal (no científica)\n",
        "plt.ticklabel_format(axis='y', style='plain')\n",
        "\n",
        "# Añadir título y etiquetas\n",
        "plt.title('Sin Notación Científica (usando ticklabel_format)', fontsize=14, fontweight='bold')\n",
        "plt.xlabel('Valor de X', fontsize=12)\n",
        "plt.ylabel('Valor de Y', fontsize=12)\n",
        "\n",
        "# Añadir grid\n",
        "plt.grid(True, alpha=0.3)\n",
        "\n",
        "# Mostrar el gráfico\n",
        "plt.tight_layout()\n",
        "plt.show()\n",
        "\n",
        "# Nota: Ahora verás los números completos como 10000000 en lugar de 1e7"
      ]
    },
    {
      "cell_type": "markdown",
      "metadata": {},
      "source": [
        "## 5. Método 2: Usar un formateador personalizado con `FuncFormatter`"
      ]
    },
    {
      "cell_type": "code",
      "execution_count": null,
      "metadata": {},
      "outputs": [],
      "source": [
        "# Importar el módulo ticker para formateadores personalizados\n",
        "from matplotlib.ticker import FuncFormatter\n",
        "\n",
        "# Definir una función para formatear los números\n",
        "# Esta función se ejecutará para cada etiqueta del eje\n",
        "def formato_millones(valor, pos):\n",
        "    \"\"\"Formatea los valores en millones con 'M'\"\"\"\n",
        "    # 'valor' es el número a formatear\n",
        "    # 'pos' es la posición (no la usamos pero es requerida)\n",
        "    return f'{valor/1e6:.1f}M'  # Divide por 1 millón y añade 'M'\n",
        "\n",
        "# Crear datos\n",
        "x = np.linspace(0, 10, 100)\n",
        "y = x * 1000000\n",
        "\n",
        "# Crear figura y eje\n",
        "fig, ax = plt.subplots(figsize=(10, 6))\n",
        "\n",
        "# Graficar\n",
        "ax.plot(x, y, linewidth=2, color='purple')\n",
        "\n",
        "# Aplicar el formateador personalizado al eje Y\n",
        "# FuncFormatter toma nuestra función y la aplica a cada etiqueta\n",
        "ax.yaxis.set_major_formatter(FuncFormatter(formato_millones))\n",
        "\n",
        "# Añadir título y etiquetas\n",
        "ax.set_title('Formato Personalizado: Millones con \"M\"', fontsize=14, fontweight='bold')\n",
        "ax.set_xlabel('Valor de X', fontsize=12)\n",
        "ax.set_ylabel('Valor de Y (Millones)', fontsize=12)\n",
        "\n",
        "# Añadir grid\n",
        "ax.grid(True, alpha=0.3)\n",
        "\n",
        "# Mostrar el gráfico\n",
        "plt.tight_layout()\n",
        "plt.show()\n",
        "\n",
        "# Nota: Ahora verás \"10.0M\" en lugar de \"1e7\""
      ]
    },
    {
      "cell_type": "markdown",
      "metadata": {},
      "source": [
        "## 6. Método 3: Usar `StrMethodFormatter` para formato simple"
      ]
    },
    {
      "cell_type": "code",
      "execution_count": null,
      "metadata": {},
      "outputs": [],
      "source": [
        "# Importar StrMethodFormatter\n",
        "from matplotlib.ticker import StrMethodFormatter\n",
        "\n",
        "# Crear datos\n",
        "x = np.linspace(0, 10, 100)\n",
        "y = x * 1000000\n",
        "\n",
        "# Crear figura y eje\n",
        "fig, ax = plt.subplots(figsize=(10, 6))\n",
        "\n",
        "# Graficar\n",
        "ax.plot(x, y, linewidth=2, color='orange')\n",
        "\n",
        "# Usar StrMethodFormatter para mostrar números sin decimales\n",
        "# '{x:.0f}' significa: mostrar x sin decimales (.0f)\n",
        "ax.yaxis.set_major_formatter(StrMethodFormatter('{x:.0f}'))\n",
        "\n",
        "# Añadir título y etiquetas\n",
        "ax.set_title('Formato usando StrMethodFormatter', fontsize=14, fontweight='bold')\n",
        "ax.set_xlabel('Valor de X', fontsize=12)\n",
        "ax.set_ylabel('Valor de Y', fontsize=12)\n",
        "\n",
        "# Añadir grid\n",
        "ax.grid(True, alpha=0.3)\n",
        "\n",
        "# Mostrar el gráfico\n",
        "plt.tight_layout()\n",
        "plt.show()"
      ]
    },
    {
      "cell_type": "markdown",
      "metadata": {},
      "source": [
        "## 7. Método 4: Usar `ScalarFormatter` con control total"
      ]
    },
    {
      "cell_type": "code",
      "execution_count": null,
      "metadata": {},
      "outputs": [],
      "source": [
        "# Importar ScalarFormatter\n",
        "from matplotlib.ticker import ScalarFormatter\n",
        "\n",
        "# Crear datos\n",
        "x = np.linspace(0, 10, 100)\n",
        "y = x * 1000000\n",
        "\n",
        "# Crear figura y eje\n",
        "fig, ax = plt.subplots(figsize=(10, 6))\n",
        "\n",
        "# Graficar\n",
        "ax.plot(x, y, linewidth=2, color='brown')\n",
        "\n",
        "# Crear un ScalarFormatter\n",
        "formatter = ScalarFormatter()\n",
        "\n",
        "# Configurar para NO usar notación científica\n",
        "# useOffset=False: no usar offset (ej: +1e6)\n",
        "formatter.set_scientific(False)\n",
        "\n",
        "# Aplicar el formateador al eje Y\n",
        "ax.yaxis.set_major_formatter(formatter)\n",
        "\n",
        "# Añadir título y etiquetas\n",
        "ax.set_title('Usando ScalarFormatter sin notación científica', fontsize=14, fontweight='bold')\n",
        "ax.set_xlabel('Valor de X', fontsize=12)\n",
        "ax.set_ylabel('Valor de Y', fontsize=12)\n",
        "\n",
        "# Añadir grid\n",
        "ax.grid(True, alpha=0.3)\n",
        "\n",
        "# Mostrar el gráfico\n",
        "plt.tight_layout()\n",
        "plt.show()"
      ]
    },
    {
      "cell_type": "markdown",
      "metadata": {},
      "source": [
        "## 8. Comparación lado a lado: Con y Sin notación científica"
      ]
    },
    {
      "cell_type": "code",
      "execution_count": null,
      "metadata": {},
      "outputs": [],
      "source": [
        "# Crear datos\n",
        "x = np.linspace(0, 10, 100)\n",
        "y = x * 1000000\n",
        "\n",
        "# Crear figura con 2 subplots (1 fila, 2 columnas)\n",
        "fig, (ax1, ax2) = plt.subplots(1, 2, figsize=(15, 6))\n",
        "\n",
        "# --- SUBPLOT 1: CON notación científica (por defecto) ---\n",
        "ax1.plot(x, y, linewidth=2, color='blue')\n",
        "ax1.set_title('CON Notación Científica (Por Defecto)', fontsize=12, fontweight='bold')\n",
        "ax1.set_xlabel('Valor de X', fontsize=10)\n",
        "ax1.set_ylabel('Valor de Y', fontsize=10)\n",
        "ax1.grid(True, alpha=0.3)\n",
        "\n",
        "# --- SUBPLOT 2: SIN notación científica ---\n",
        "ax2.plot(x, y, linewidth=2, color='green')\n",
        "# Desactivar notación científica\n",
        "ax2.ticklabel_format(axis='y', style='plain')\n",
        "ax2.set_title('SIN Notación Científica', fontsize=12, fontweight='bold')\n",
        "ax2.set_xlabel('Valor de X', fontsize=10)\n",
        "ax2.set_ylabel('Valor de Y', fontsize=10)\n",
        "ax2.grid(True, alpha=0.3)\n",
        "\n",
        "# Ajustar el layout para que no se solapen\n",
        "plt.tight_layout()\n",
        "plt.show()\n",
        "\n",
        "# Nota: Compara cómo se muestran los números en ambos gráficos"
      ]
    },
    {
      "cell_type": "markdown",
      "metadata": {},
      "source": [
        "## 9. Ejemplo práctico: Datos financieros"
      ]
    },
    {
      "cell_type": "code",
      "execution_count": null,
      "metadata": {},
      "outputs": [],
      "source": [
        "# Importar FuncFormatter para formato personalizado\n",
        "from matplotlib.ticker import FuncFormatter\n",
        "\n",
        "# Simular datos de ventas mensuales (en dólares)\n",
        "meses = ['Ene', 'Feb', 'Mar', 'Abr', 'May', 'Jun', 'Jul', 'Ago', 'Sep', 'Oct', 'Nov', 'Dic']\n",
        "ventas = [1200000, 1350000, 1500000, 1800000, 2100000, 2300000, \n",
        "          2500000, 2200000, 2400000, 2600000, 2900000, 3200000]\n",
        "\n",
        "# Función para formatear en miles de dólares\n",
        "def formato_dolares(valor, pos):\n",
        "    \"\"\"Formatea valores como '$X.XM'\"\"\"\n",
        "    return f'${valor/1e6:.1f}M'\n",
        "\n",
        "# Crear figura y eje\n",
        "fig, ax = plt.subplots(figsize=(12, 6))\n",
        "\n",
        "# Crear gráfico de barras\n",
        "barras = ax.bar(meses, ventas, color='steelblue', alpha=0.8, edgecolor='black')\n",
        "\n",
        "# Aplicar formato personalizado al eje Y\n",
        "ax.yaxis.set_major_formatter(FuncFormatter(formato_dolares))\n",
        "\n",
        "# Añadir título y etiquetas\n",
        "ax.set_title('Ventas Mensuales 2024 - Formato Personalizado', fontsize=16, fontweight='bold', pad=20)\n",
        "ax.set_xlabel('Mes', fontsize=12, fontweight='bold')\n",
        "ax.set_ylabel('Ventas', fontsize=12, fontweight='bold')\n",
        "\n",
        "# Añadir grid solo en el eje Y\n",
        "ax.grid(True, axis='y', alpha=0.3, linestyle='--')\n",
        "\n",
        "# Añadir valores sobre cada barra\n",
        "for barra in barras:\n",
        "    altura = barra.get_height()\n",
        "    # Colocar texto sobre cada barra\n",
        "    ax.text(barra.get_x() + barra.get_width()/2., altura,\n",
        "            f'${altura/1e6:.1f}M',  # Formato del texto\n",
        "            ha='center', va='bottom', fontsize=9, fontweight='bold')\n",
        "\n",
        "# Ajustar layout\n",
        "plt.tight_layout()\n",
        "plt.show()"
      ]
    },
    {
      "cell_type": "markdown",
      "metadata": {},
      "source": [
        "## 10. Resumen de métodos"
      ]
    },
    {
      "cell_type": "markdown",
      "metadata": {},
      "source": [
        "### Tabla resumen de métodos para controlar la notación científica:\n",
        "\n",
        "| Método | Código | Uso recomendado |\n",
        "|--------|--------|------------------|\n",
        "| **ticklabel_format()** | `plt.ticklabel_format(style='plain')` | Desactivar rápidamente la notación científica |\n",
        "| **FuncFormatter** | `FuncFormatter(funcion_personalizada)` | Formato completamente personalizado |\n",
        "| **StrMethodFormatter** | `StrMethodFormatter('{x:.0f}')` | Formato simple con string format |\n",
        "| **ScalarFormatter** | `ScalarFormatter().set_scientific(False)` | Control detallado del formato |\n",
        "\n",
        "### ¿Cuál usar?\n",
        "\n",
        "- **Simple y rápido**: `ticklabel_format(style='plain')`\n",
        "- **Formato personalizado** (ej: añadir $, M, K): `FuncFormatter()`\n",
        "- **Control de decimales simple**: `StrMethodFormatter()`\n",
        "- **Control total**: `ScalarFormatter()`"
      ]
    },
    {
      "cell_type": "markdown",
      "metadata": {},
      "source": [
        "## 11. Ejercicio práctico"
      ]
    },
    {
      "cell_type": "code",
      "execution_count": null,
      "metadata": {},
      "outputs": [],
      "source": [
        "# EJERCICIO: Modifica este código para mostrar las etiquetas del eje Y\n",
        "# en formato de miles con 'K' (ej: 50K en lugar de 50000)\n",
        "\n",
        "# Datos de ejemplo\n",
        "x = np.arange(1, 11)\n",
        "y = x * 10000  # Valores en decenas de miles\n",
        "\n",
        "# Crear el gráfico\n",
        "fig, ax = plt.subplots(figsize=(10, 6))\n",
        "ax.plot(x, y, marker='o', linewidth=2, markersize=8, color='crimson')\n",
        "\n",
        "# TODO: Añade aquí el formateador para mostrar valores como '50K', '100K', etc.\n",
        "# Pista: Usa FuncFormatter y divide por 1000\n",
        "\n",
        "ax.set_title('Ejercicio: Formatea el eje Y con \"K\"', fontsize=14, fontweight='bold')\n",
        "ax.set_xlabel('X', fontsize=12)\n",
        "ax.set_ylabel('Y', fontsize=12)\n",
        "ax.grid(True, alpha=0.3)\n",
        "\n",
        "plt.tight_layout()\n",
        "plt.show()"
      ]
    },
    {
      "cell_type": "markdown",
      "metadata": {},
      "source": [
        "## 12. Solución del ejercicio"
      ]
    },
    {
      "cell_type": "code",
      "execution_count": null,
      "metadata": {},
      "outputs": [],
      "source": [
        "# SOLUCIÓN del ejercicio anterior\n",
        "\n",
        "from matplotlib.ticker import FuncFormatter\n",
        "\n",
        "# Función para formatear en miles\n",
        "def formato_miles(valor, pos):\n",
        "    \"\"\"Formatea los valores en miles con 'K'\"\"\"\n",
        "    return f'{valor/1e3:.0f}K'\n",
        "\n",
        "# Datos\n",
        "x = np.arange(1, 11)\n",
        "y = x * 10000\n",
        "\n",
        "# Crear gráfico\n",
        "fig, ax = plt.subplots(figsize=(10, 6))\n",
        "ax.plot(x, y, marker='o', linewidth=2, markersize=8, color='crimson')\n",
        "\n",
        "# Aplicar el formateador\n",
        "ax.yaxis.set_major_formatter(FuncFormatter(formato_miles))\n",
        "\n",
        "ax.set_title('Solución: Valores formateados con \"K\"', fontsize=14, fontweight='bold')\n",
        "ax.set_xlabel('X', fontsize=12)\n",
        "ax.set_ylabel('Y (Miles)', fontsize=12)\n",
        "ax.grid(True, alpha=0.3)\n",
        "\n",
        "plt.tight_layout()\n",
        "plt.show()"
      ]
    },
    {
      "cell_type": "markdown",
      "metadata": {},
      "source": [
        "## Conclusión\n",
        "\n",
        "Matplotlib usa notación científica para mantener los gráficos legibles cuando los valores son muy grandes o muy pequeños. Sin embargo, tenemos varios métodos para controlar este comportamiento según nuestras necesidades:\n",
        "\n",
        "1. **Desactivar completamente** la notación científica\n",
        "2. **Personalizar el formato** usando formateadores\n",
        "3. **Adaptarlo** a contextos específicos (financiero, científico, etc.)\n",
        "\n",
        "Recuerda elegir el método que mejor se adapte a tu caso de uso y a tu audiencia."
      ]
    }
  ],
  "metadata": {
    "kernelspec": {
      "display_name": "Python 3",
      "language": "python",
      "name": "python3"
    },
    "language_info": {
      "codemirror_mode": {
        "name": "ipython",
        "version": 3
      },
      "file_extension": ".py",
      "mimetype": "text/x-python",
      "name": "python",
      "nbconvert_exporter": "python",
      "pygments_lexer": "ipython3",
      "version": "3.8.0"
    }
  },
  "nbformat": 4,
  "nbformat_minor": 4
}
