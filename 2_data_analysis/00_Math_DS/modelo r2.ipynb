{
 "cells": [
  {
   "cell_type": "code",
   "execution_count": null,
   "id": "56bb43f7",
   "metadata": {},
   "outputs": [],
   "source": [
    "# Ejemplo de evaluación de un modelo lineal con distintos scores\n",
    "\n",
    "from sklearn.datasets import make_regression\n",
    "from sklearn.model_selection import train_test_split\n",
    "from sklearn.linear_model import LinearRegression\n",
    "from sklearn.metrics import r2_score, mean_absolute_error, mean_squared_error\n",
    "import numpy as np\n",
    "\n",
    "# 1. Generamos datos sintéticos\n",
    "X, y = make_regression(\n",
    "    n_samples=200, \n",
    "    n_features=1, \n",
    "    noise=15,         # añade ruido para hacerlo más realista\n",
    "    random_state=42\n",
    ")\n",
    "\n",
    "# 2. Dividimos los datos en train y test\n",
    "X_train, X_test, y_train, y_test = train_test_split(X, y, test_size=0.3, random_state=42)\n",
    "\n",
    "# 3. Entrenamos un modelo lineal\n",
    "model = LinearRegression()\n",
    "model.fit(X_train, y_train)\n",
    "\n",
    "# 4. Hacemos predicciones\n",
    "y_pred = model.predict(X_test)\n",
    "\n",
    "# 5. Calculamos distintos scores\n",
    "r2 = r2_score(y_test, y_pred)\n",
    "mae = mean_absolute_error(y_test, y_pred)\n",
    "mse = mean_squared_error(y_test, y_pred)\n",
    "rmse = np.sqrt(mse)\n",
    "\n",
    "# 6. Mostramos resultados\n",
    "print(\"=== Evaluación del modelo lineal ===\")\n",
    "print(f\"R² Score: {r2:.3f}\")\n",
    "print(f\"MAE (Mean Absolute Error): {mae:.3f}\")\n",
    "print(f\"MSE (Mean Squared Error): {mse:.3f}\")\n",
    "print(f\"RMSE (Root Mean Squared Error): {rmse:.3f}\")\n"
   ]
  }
 ],
 "metadata": {
  "language_info": {
   "name": "python"
  }
 },
 "nbformat": 4,
 "nbformat_minor": 5
}
