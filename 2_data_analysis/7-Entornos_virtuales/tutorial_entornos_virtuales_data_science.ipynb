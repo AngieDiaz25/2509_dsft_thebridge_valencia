{
 "cells": [
  {
   "cell_type": "markdown",
   "metadata": {},
   "source": [
    "# Tutorial Completo: Entornos Virtuales para Data Science\n",
    "\n",
    "Este tutorial cubre todo lo que necesitas saber sobre entornos virtuales para proyectos de ciencia de datos, incluyendo instalación y configuración en Windows y macOS.\n",
    "\n",
    "## Índice\n",
    "1. [¿Qué son los entornos virtuales?](#que-son)\n",
    "2. [Tipos de entornos virtuales](#tipos)\n",
    "3. [venv (Recomendado para principiantes)](#venv)\n",
    "4. [virtualenv](#virtualenv)\n",
    "5. [Conda/Anaconda (Ideal para Data Science)](#conda)\n",
    "6. [pipenv](#pipenv)\n",
    "7. [Comparación y mejores prácticas](#comparacion)\n",
    "8. [Solución de problemas](#troubleshooting)"
   ]
  },
  {
   "cell_type": "markdown",
   "metadata": {},
   "source": [
    "## 1. ¿Qué son los entornos virtuales? {#que-son}\n",
    "\n",
    "Los entornos virtuales son espacios aislados donde puedes instalar paquetes de Python sin afectar tu instalación global del sistema. Esto es especialmente importante en Data Science donde diferentes proyectos pueden requerir diferentes versiones de librerías como pandas, numpy, scikit-learn, etc.\n",
    "\n",
    "### Ventajas:\n",
    "- **Aislamiento**: Cada proyecto tiene sus propias dependencias\n",
    "- **Reproducibilidad**: Puedes recrear exactamente el mismo entorno\n",
    "- **Limpieza**: No contaminas tu instalación global de Python\n",
    "- **Flexibilidad**: Diferentes versiones de Python para diferentes proyectos"
   ]
  },
  {
   "cell_type": "markdown",
   "metadata": {},
   "source": [
    "## 2. Tipos de entornos virtuales {#tipos}\n",
    "\n",
    "| Herramienta | Pros | Contras | Ideal para |\n",
    "|-------------|------|---------|------------|\n",
    "| **venv** | Incluido en Python, simple | Solo Python, no gestiona versiones de Python | Principiantes, proyectos simples |\n",
    "| **virtualenv** | Más funciones que venv | Instalación adicional requerida | Proyectos avanzados |\n",
    "| **Conda/Anaconda** | Gestiona Python + paquetes no-Python, ideal para Data Science | Más pesado, curva de aprendizaje | Data Science, Machine Learning |\n",
    "| **pipenv** | Combina pip + virtualenv, archivo Pipfile | Más lento, menos maduro | Desarrollo web, proyectos medianos |"
   ]
  },
  {
   "cell_type": "markdown",
   "metadata": {},
   "source": [
    "## 3. venv (Recomendado para principiantes) {#venv}\n",
    "\n",
    "**venv** viene incluido con Python 3.3+ y es la forma más simple de crear entornos virtuales.\n",
    "\n",
    "### Instalación\n",
    "No requiere instalación adicional si tienes Python 3.3+."
   ]
  },
  {
   "cell_type": "markdown",
   "metadata": {},
   "source": [
    "### Crear entorno virtual\n",
    "\n",
    "#### En Windows:"
   ]
  },
  {
   "cell_type": "code",
   "execution_count": null,
   "metadata": {},
   "source": [
    "# Crear entorno virtual\n",
    "# En terminal/cmd:\n",
    "# python -m venv nombre_entorno\n",
    "# o\n",
    "# python -m venv mi_proyecto_ds\n",
    "\n",
    "# Activar entorno (Windows)\n",
    "# nombre_entorno\\Scripts\\activate\n",
    "\n",
    "# Desactivar entorno\n",
    "# deactivate\n",
    "\n",
    "print(\"Comandos para Windows mostrados arriba como comentarios\")"
   ]
  },
  {
   "cell_type": "markdown",
   "metadata": {},
   "source": [
    "#### En macOS/Linux:"
   ]
  },
  {
   "cell_type": "code",
   "execution_count": null,
   "metadata": {},
   "source": [
    "# Crear entorno virtual\n",
    "# En terminal:\n",
    "# python3 -m venv nombre_entorno\n",
    "# o\n",
    "# python3 -m venv mi_proyecto_ds\n",
    "\n",
    "# Activar entorno (macOS/Linux)\n",
    "# source nombre_entorno/bin/activate\n",
    "\n",
    "# Desactivar entorno\n",
    "# deactivate\n",
    "\n",
    "print(\"Comandos para macOS/Linux mostrados arriba como comentarios\")"
   ]
  },
  {
   "cell_type": "markdown",
   "metadata": {},
   "source": [
    "### Instalar paquetes de Data Science en venv"
   ]
  },
  {
   "cell_type": "code",
   "execution_count": null,
   "metadata": {},
   "source": [
    "# Una vez activado el entorno, instalar paquetes esenciales para Data Science\n",
    "# pip install numpy pandas matplotlib seaborn scikit-learn jupyter\n",
    "\n",
    "# Para análisis más avanzado\n",
    "# pip install scipy statsmodels plotly bokeh\n",
    "\n",
    "# Para machine learning\n",
    "# pip install tensorflow keras torch xgboost lightgbm\n",
    "\n",
    "# Guardar dependencias\n",
    "# pip freeze > requirements.txt\n",
    "\n",
    "# Instalar desde requirements.txt\n",
    "# pip install -r requirements.txt\n",
    "\n",
    "print(\"Comandos de instalación mostrados como comentarios\")"
   ]
  },
  {
   "cell_type": "markdown",
   "metadata": {},
   "source": [
    "### Ejemplo práctico con venv"
   ]
  },
  {
   "cell_type": "code",
   "execution_count": null,
   "metadata": {},
   "source": [
    "# Ejemplo: Crear proyecto de análisis de ventas\n",
    "\n",
    "# 1. Crear directorio del proyecto\n",
    "# mkdir analisis_ventas\n",
    "# cd analisis_ventas\n",
    "\n",
    "# 2. Crear entorno virtual\n",
    "# python -m venv venv_ventas\n",
    "\n",
    "# 3. Activar (Windows)\n",
    "# venv_ventas\\Scripts\\activate\n",
    "\n",
    "# 3. Activar (macOS/Linux)\n",
    "# source venv_ventas/bin/activate\n",
    "\n",
    "# 4. Instalar paquetes necesarios\n",
    "# pip install pandas numpy matplotlib jupyter\n",
    "\n",
    "# 5. Guardar dependencias\n",
    "# pip freeze > requirements.txt\n",
    "\n",
    "print(\"Ejemplo de flujo completo con venv\")"
   ]
  },
  {
   "cell_type": "markdown",
   "metadata": {},
   "source": [
    "## 4. virtualenv {#virtualenv}\n",
    "\n",
    "**virtualenv** es una versión más completa y con más funciones que venv. Soporta Python 2 y 3.\n",
    "\n",
    "### Instalación"
   ]
  },
  {
   "cell_type": "code",
   "execution_count": null,
   "metadata": {},
   "source": [
    "# Instalar virtualenv\n",
    "# pip install virtualenv\n",
    "\n",
    "# Verificar instalación\n",
    "# virtualenv --version\n",
    "\n",
    "print(\"Comandos de instalación de virtualenv\")"
   ]
  },
  {
   "cell_type": "markdown",
   "metadata": {},
   "source": [
    "### Usar virtualenv"
   ]
  },
  {
   "cell_type": "code",
   "execution_count": null,
   "metadata": {},
   "source": [
    "# Crear entorno virtual\n",
    "# virtualenv nombre_entorno\n",
    "\n",
    "# Crear con versión específica de Python\n",
    "# virtualenv -p python3.9 mi_entorno_python39\n",
    "\n",
    "# Activar (Windows)\n",
    "# nombre_entorno\\Scripts\\activate\n",
    "\n",
    "# Activar (macOS/Linux)\n",
    "# source nombre_entorno/bin/activate\n",
    "\n",
    "# Desactivar\n",
    "# deactivate\n",
    "\n",
    "print(\"Comandos básicos de virtualenv\")"
   ]
  },
  {
   "cell_type": "markdown",
   "metadata": {},
   "source": [
    "### Ejemplo con virtualenv para proyecto de Machine Learning"
   ]
  },
  {
   "cell_type": "code",
   "execution_count": null,
   "metadata": {},
   "source": [
    "# Proyecto de clasificación de imágenes\n",
    "\n",
    "# 1. Crear entorno con Python específico\n",
    "# virtualenv -p python3.9 ml_clasificacion\n",
    "\n",
    "# 2. Activar\n",
    "# source ml_clasificacion/bin/activate  # macOS/Linux\n",
    "# ml_clasificacion\\Scripts\\activate     # Windows\n",
    "\n",
    "# 3. Instalar stack de ML\n",
    "# pip install tensorflow keras opencv-python pillow\n",
    "# pip install pandas numpy matplotlib seaborn\n",
    "# pip install scikit-learn jupyter ipykernel\n",
    "\n",
    "# 4. Agregar kernel a Jupyter\n",
    "# python -m ipykernel install --user --name=ml_clasificacion\n",
    "\n",
    "print(\"Ejemplo completo de proyecto ML con virtualenv\")"
   ]
  },
  {
   "cell_type": "markdown",
   "metadata": {},
   "source": [
    "## 5. Conda/Anaconda (Ideal para Data Science) {#conda}\n",
    "\n",
    "**Conda** es un gestor de paquetes y entornos que puede manejar paquetes de Python y otros lenguajes. **Anaconda** es una distribución que incluye conda + muchos paquetes científicos preinstalados.\n",
    "\n",
    "### Instalación\n",
    "\n",
    "#### Opción 1: Anaconda (Recomendado para principiantes)\n",
    "- Descargar desde: https://www.anaconda.com/products/distribution\n",
    "- Incluye Python + 250+ paquetes científicos\n",
    "- Tamaño: ~3GB\n",
    "\n",
    "#### Opción 2: Miniconda (Recomendado para usuarios avanzados)\n",
    "- Descargar desde: https://docs.conda.io/en/latest/miniconda.html\n",
    "- Solo Python + conda\n",
    "- Tamaño: ~400MB"
   ]
  },
  {
   "cell_type": "markdown",
   "metadata": {},
   "source": [
    "### Comandos básicos de Conda"
   ]
  },
  {
   "cell_type": "code",
   "execution_count": null,
   "metadata": {},
   "source": [
    "# Verificar instalación\n",
    "# conda --version\n",
    "\n",
    "# Crear entorno nuevo\n",
    "# conda create --name mi_entorno python=3.9\n",
    "\n",
    "# Crear entorno con paquetes específicos\n",
    "# conda create --name ds_project python=3.9 pandas numpy matplotlib jupyter\n",
    "\n",
    "# Activar entorno\n",
    "# conda activate mi_entorno\n",
    "\n",
    "# Desactivar entorno\n",
    "# conda deactivate\n",
    "\n",
    "# Listar entornos\n",
    "# conda env list\n",
    "\n",
    "# Eliminar entorno\n",
    "# conda env remove --name mi_entorno\n",
    "\n",
    "print(\"Comandos básicos de conda\")"
   ]
  },
  {
   "cell_type": "markdown",
   "metadata": {},
   "source": [
    "### Gestión de paquetes con Conda"
   ]
  },
  {
   "cell_type": "code",
   "execution_count": null,
   "metadata": {},
   "source": [
    "# Instalar paquetes\n",
    "# conda install pandas numpy matplotlib\n",
    "\n",
    "# Instalar desde canal específico\n",
    "# conda install -c conda-forge seaborn\n",
    "\n",
    "# Buscar paquetes\n",
    "# conda search tensorflow\n",
    "\n",
    "# Listar paquetes instalados\n",
    "# conda list\n",
    "\n",
    "# Actualizar paquetes\n",
    "# conda update pandas\n",
    "# conda update --all\n",
    "\n",
    "# Exportar entorno\n",
    "# conda env export > environment.yml\n",
    "\n",
    "# Crear entorno desde archivo\n",
    "# conda env create -f environment.yml\n",
    "\n",
    "print(\"Gestión de paquetes con conda\")"
   ]
  },
  {
   "cell_type": "markdown",
   "metadata": {},
   "source": [
    "### Ejemplo completo: Proyecto de Data Science con Conda"
   ]
  },
  {
   "cell_type": "code",
   "execution_count": null,
   "metadata": {},
   "source": [
    "# Proyecto de análisis predictivo\n",
    "\n",
    "# 1. Crear entorno con stack completo de DS\n",
    "# conda create --name prediccion_ventas python=3.9 \\\n",
    "#   pandas numpy scipy matplotlib seaborn \\\n",
    "#   scikit-learn jupyter ipykernel\n",
    "\n",
    "# 2. Activar entorno\n",
    "# conda activate prediccion_ventas\n",
    "\n",
    "# 3. Instalar paquetes adicionales\n",
    "# conda install -c conda-forge plotly xgboost\n",
    "# pip install lightgbm  # Si no está disponible en conda\n",
    "\n",
    "# 4. Instalar kernel para Jupyter\n",
    "# python -m ipykernel install --user --name prediccion_ventas --display-name \"Predicción Ventas\"\n",
    "\n",
    "# 5. Exportar entorno para reproducibilidad\n",
    "# conda env export > environment.yml\n",
    "\n",
    "print(\"Ejemplo completo con conda para Data Science\")"
   ]
  },
  {
   "cell_type": "markdown",
   "metadata": {},
   "source": [
    "### Archivo environment.yml ejemplo"
   ]
  },
  {
   "cell_type": "code",
   "execution_count": null,
   "metadata": {},
   "source": [
    "# Ejemplo de archivo environment.yml\n",
    "environment_yml_content = \"\"\"\n",
    "name: prediccion_ventas\n",
    "channels:\n",
    "  - conda-forge\n",
    "  - defaults\n",
    "dependencies:\n",
    "  - python=3.9\n",
    "  - pandas\n",
    "  - numpy\n",
    "  - scipy\n",
    "  - matplotlib\n",
    "  - seaborn\n",
    "  - scikit-learn\n",
    "  - jupyter\n",
    "  - ipykernel\n",
    "  - plotly\n",
    "  - xgboost\n",
    "  - pip\n",
    "  - pip:\n",
    "    - lightgbm\n",
    "    - optuna\n",
    "\"\"\"\n",
    "\n",
    "print(\"Contenido de environment.yml:\")\n",
    "print(environment_yml_content)"
   ]
  },
  {
   "cell_type": "markdown",
   "metadata": {},
   "source": [
    "## 6. pipenv {#pipenv}\n",
    "\n",
    "**pipenv** combina pip y virtualenv en una sola herramienta. Usa archivos Pipfile en lugar de requirements.txt.\n",
    "\n",
    "### Instalación"
   ]
  },
  {
   "cell_type": "code",
   "execution_count": null,
   "metadata": {},
   "source": [
    "# Instalar pipenv\n",
    "# pip install pipenv\n",
    "\n",
    "# Verificar instalación\n",
    "# pipenv --version\n",
    "\n",
    "print(\"Instalación de pipenv\")"
   ]
  },
  {
   "cell_type": "markdown",
   "metadata": {},
   "source": [
    "### Usar pipenv"
   ]
  },
  {
   "cell_type": "code",
   "execution_count": null,
   "metadata": {},
   "source": [
    "# Inicializar proyecto (crea Pipfile)\n",
    "# pipenv install\n",
    "\n",
    "# Instalar paquetes\n",
    "# pipenv install pandas numpy matplotlib\n",
    "\n",
    "# Instalar paquetes de desarrollo\n",
    "# pipenv install pytest --dev\n",
    "\n",
    "# Activar entorno\n",
    "# pipenv shell\n",
    "\n",
    "# Ejecutar comandos en el entorno\n",
    "# pipenv run python script.py\n",
    "# pipenv run jupyter notebook\n",
    "\n",
    "# Ver dependencias\n",
    "# pipenv graph\n",
    "\n",
    "# Instalar desde Pipfile\n",
    "# pipenv install\n",
    "\n",
    "# Generar requirements.txt\n",
    "# pipenv requirements > requirements.txt\n",
    "\n",
    "print(\"Comandos básicos de pipenv\")"
   ]
  },
  {
   "cell_type": "markdown",
   "metadata": {},
   "source": [
    "### Ejemplo con pipenv"
   ]
  },
  {
   "cell_type": "code",
   "execution_count": null,
   "metadata": {},
   "source": [
    "# Proyecto de análisis de datos financieros\n",
    "\n",
    "# 1. Crear directorio e inicializar\n",
    "# mkdir analisis_financiero\n",
    "# cd analisis_financiero\n",
    "# pipenv install\n",
    "\n",
    "# 2. Instalar stack de finanzas\n",
    "# pipenv install pandas numpy yfinance plotly dash\n",
    "# pipenv install jupyter ipykernel --dev\n",
    "\n",
    "# 3. Activar y trabajar\n",
    "# pipenv shell\n",
    "# pipenv run jupyter notebook\n",
    "\n",
    "print(\"Ejemplo con pipenv para análisis financiero\")"
   ]
  },
  {
   "cell_type": "markdown",
   "metadata": {},
   "source": [
    "### Archivo Pipfile ejemplo"
   ]
  },
  {
   "cell_type": "code",
   "execution_count": null,
   "metadata": {},
   "source": [
    "# Ejemplo de archivo Pipfile\n",
    "pipfile_content = \"\"\"\n",
    "[[source]]\n",
    "url = \"https://pypi.org/simple\"\n",
    "verify_ssl = true\n",
    "name = \"pypi\"\n",
    "\n",
    "[packages]\n",
    "pandas = \"*\"\n",
    "numpy = \"*\"\n",
    "yfinance = \"*\"\n",
    "plotly = \"*\"\n",
    "dash = \"*\"\n",
    "\n",
    "[dev-packages]\n",
    "jupyter = \"*\"\n",
    "ipykernel = \"*\"\n",
    "pytest = \"*\"\n",
    "\n",
    "[requires]\n",
    "python_version = \"3.9\"\n",
    "\"\"\"\n",
    "\n",
    "print(\"Contenido de Pipfile:\")\n",
    "print(pipfile_content)"
   ]
  },
  {
   "cell_type": "markdown",
   "metadata": {},
   "source": [
    "## 7. Comparación y mejores prácticas {#comparacion}\n",
    "\n",
    "### Cuándo usar cada herramienta\n",
    "\n",
    "| Escenario | Herramienta recomendada | Razón |\n",
    "|-----------|-------------------------|-------|\n",
    "| Principiante en Python | **venv** | Simple, incluido en Python |\n",
    "| Data Science/ML | **Conda/Anaconda** | Maneja paquetes científicos complejos |\n",
    "| Desarrollo web | **pipenv** | Mejor gestión de dependencias |\n",
    "| Proyectos empresariales | **virtualenv** + Docker | Mayor control y reproducibilidad |\n",
    "| Investigación académica | **Conda** | Fácil compartir entornos |\n",
    "| Múltiples versiones Python | **virtualenv** o **conda** | Soporte completo para versiones |"
   ]
  },
  {
   "cell_type": "markdown",
   "metadata": {},
   "source": [
    "### Mejores prácticas generales"
   ]
  },
  {
   "cell_type": "code",
   "execution_count": null,
   "metadata": {},
   "source": [
    "# 1. SIEMPRE usar entornos virtuales\n",
    "# Nunca instalar paquetes globalmente para proyectos\n",
    "\n",
    "# 2. Nombra tus entornos descriptivamente\n",
    "# Mal: venv, env\n",
    "# Bien: analisis_ventas_2024, ml_clasificacion_imagenes\n",
    "\n",
    "# 3. Documenta tus dependencias\n",
    "# requirements.txt (pip)\n",
    "# environment.yml (conda)\n",
    "# Pipfile (pipenv)\n",
    "\n",
    "# 4. Usa .gitignore\n",
    "gitignore_content = \"\"\"\n",
    "# Entornos virtuales\n",
    "venv/\n",
    "env/\n",
    ".venv/\n",
    ".env/\n",
    "\n",
    "# Conda\n",
    ".conda/\n",
    "\n",
    "# Jupyter\n",
    ".ipynb_checkpoints/\n",
    "\n",
    "# Python\n",
    "__pycache__/\n",
    "*.pyc\n",
    "\"\"\"\n",
    "\n",
    "print(\"Contenido recomendado para .gitignore:\")\n",
    "print(gitignore_content)"
   ]
  },
  {
   "cell_type": "markdown",
   "metadata": {},
   "source": [
    "### Estructura de proyecto recomendada"
   ]
  },
  {
   "cell_type": "code",
   "execution_count": null,
   "metadata": {},
   "source": [
    "# Estructura recomendada para proyectos de Data Science\n",
    "\n",
    "project_structure = \"\"\"\n",
    "mi_proyecto_ds/\n",
    "├── data/\n",
    "│   ├── raw/          # Datos originales\n",
    "│   ├── processed/    # Datos procesados\n",
    "│   └── external/     # Datos de fuentes externas\n",
    "├── notebooks/        # Jupyter notebooks\n",
    "├── src/             # Código fuente\n",
    "├── tests/           # Tests\n",
    "├── docs/            # Documentación\n",
    "├── models/          # Modelos entrenados\n",
    "├── reports/         # Reportes y visualizaciones\n",
    "├── venv/            # Entorno virtual (no subir a git)\n",
    "├── requirements.txt # Dependencias\n",
    "├── environment.yml  # Si usas conda\n",
    "├── README.md\n",
    "└── .gitignore\n",
    "\"\"\"\n",
    "\n",
    "print(\"Estructura de proyecto recomendada:\")\n",
    "print(project_structure)"
   ]
  },
  {
   "cell_type": "markdown",
   "metadata": {},
   "source": [
    "## 8. Solución de problemas {#troubleshooting}\n",
    "\n",
    "### Problemas comunes y soluciones"
   ]
  },
  {
   "cell_type": "markdown",
   "metadata": {},
   "source": [
    "### Error: \"Python no encontrado\"\n",
    "\n",
    "**Windows:**"
   ]
  },
  {
   "cell_type": "code",
   "execution_count": null,
   "metadata": {},
   "source": [
    "# Problema: 'python' is not recognized as internal or external command\n",
    "\n",
    "# Solución 1: Usar py launcher\n",
    "# py -m venv mi_entorno\n",
    "\n",
    "# Solución 2: Agregar Python al PATH\n",
    "# 1. Buscar \"Environment Variables\" en Windows\n",
    "# 2. Agregar la ruta de Python (ej: C:\\Python39\\)\n",
    "# 3. Agregar también C:\\Python39\\Scripts\\\n",
    "\n",
    "# Solución 3: Reinstalar Python marcando \"Add to PATH\"\n",
    "\n",
    "print(\"Soluciones para Windows cuando Python no se encuentra\")"
   ]
  },
  {
   "cell_type": "markdown",
   "metadata": {},
   "source": [
    "**macOS:**"
   ]
  },
  {
   "cell_type": "code",
   "execution_count": null,
   "metadata": {},
   "source": [
    "# Problema: command not found: python\n",
    "\n",
    "# Solución 1: Usar python3\n",
    "# python3 -m venv mi_entorno\n",
    "\n",
    "# Solución 2: Instalar Python via Homebrew\n",
    "# brew install python\n",
    "\n",
    "# Solución 3: Crear alias en .bash_profile o .zshrc\n",
    "# echo 'alias python=python3' >> ~/.zshrc\n",
    "# source ~/.zshrc\n",
    "\n",
    "print(\"Soluciones para macOS cuando Python no se encuentra\")"
   ]
  },
  {
   "cell_type": "markdown",
   "metadata": {},
   "source": [
    "### Error: \"Execution policy\" (Windows PowerShell)"
   ]
  },
  {
   "cell_type": "code",
   "execution_count": null,
   "metadata": {},
   "source": [
    "# Problema: cannot be loaded because running scripts is disabled\n",
    "\n",
    "# Solución 1: Cambiar política de ejecución temporalmente\n",
    "# Set-ExecutionPolicy -ExecutionPolicy RemoteSigned -Scope CurrentUser\n",
    "\n",
    "# Solución 2: Usar Command Prompt en lugar de PowerShell\n",
    "\n",
    "# Solución 3: Activar con comando completo\n",
    "# .\\venv\\Scripts\\Activate.ps1\n",
    "\n",
    "print(\"Soluciones para problemas de política de ejecución en Windows\")"
   ]
  },
  {
   "cell_type": "markdown",
   "metadata": {},
   "source": [
    "### Error: \"Permission denied\""
   ]
  },
  {
   "cell_type": "code",
   "execution_count": null,
   "metadata": {},
   "source": [
    "# Problema: Permission denied al crear entornos\n",
    "\n",
    "# Solución 1: No usar sudo con pip/conda (Linux/macOS)\n",
    "# Malo: sudo pip install ...\n",
    "# Bueno: pip install --user ...\n",
    "\n",
    "# Solución 2: Verificar permisos del directorio\n",
    "# chmod 755 ~/mi_proyecto\n",
    "\n",
    "# Solución 3: Crear entorno en directorio con permisos\n",
    "# mkdir ~/entornos\n",
    "# python -m venv ~/entornos/mi_proyecto\n",
    "\n",
    "print(\"Soluciones para problemas de permisos\")"
   ]
  },
  {
   "cell_type": "markdown",
   "metadata": {},
   "source": [
    "### Problemas específicos de Conda"
   ]
  },
  {
   "cell_type": "code",
   "execution_count": null,
   "metadata": {},
   "source": [
    "# Problema: Conda slow/packages conflict\n",
    "\n",
    "# Solución 1: Usar mamba (conda más rápido)\n",
    "# conda install mamba -n base -c conda-forge\n",
    "# mamba install pandas numpy  # En lugar de conda install\n",
    "\n",
    "# Solución 2: Limpiar caché de conda\n",
    "# conda clean --all\n",
    "\n",
    "# Solución 3: Especificar canales explícitamente\n",
    "# conda install -c conda-forge pandas\n",
    "\n",
    "# Solución 4: Usar pip dentro de conda para paquetes problemáticos\n",
    "# conda activate mi_entorno\n",
    "# pip install paquete_problematico\n",
    "\n",
    "print(\"Soluciones para problemas comunes de Conda\")"
   ]
  },
  {
   "cell_type": "markdown",
   "metadata": {},
   "source": [
    "### Jupyter Kernel Issues"
   ]
  },
  {
   "cell_type": "code",
   "execution_count": null,
   "metadata": {},
   "source": [
    "# Problema: Jupyter no encuentra el entorno virtual\n",
    "\n",
    "# Solución: Instalar kernel específico\n",
    "# 1. Activar entorno\n",
    "# source mi_entorno/bin/activate  # Linux/macOS\n",
    "# mi_entorno\\Scripts\\activate     # Windows\n",
    "\n",
    "# 2. Instalar ipykernel\n",
    "# pip install ipykernel\n",
    "\n",
    "# 3. Agregar kernel a Jupyter\n",
    "# python -m ipykernel install --user --name=mi_entorno --display-name=\"Mi Entorno DS\"\n",
    "\n",
    "# 4. Verificar kernels disponibles\n",
    "# jupyter kernelspec list\n",
    "\n",
    "# 5. Eliminar kernel si es necesario\n",
    "# jupyter kernelspec uninstall mi_entorno\n",
    "\n",
    "print(\"Soluciones para problemas de Jupyter Kernel\")"
   ]
  },
  {
   "cell_type": "markdown",
   "metadata": {},
   "source": [
    "### Comandos útiles para debugging"
   ]
  },
  {
   "cell_type": "code",
   "execution_count": null,
   "metadata": {},
   "source": [
    "# Verificar qué Python estás usando\n",
    "import sys\n",
    "print(\"Python executable:\", sys.executable)\n",
    "print(\"Python version:\", sys.version)\n",
    "print(\"Python path:\", sys.path[:3])  # Primeros 3 elementos\n",
    "\n",
    "# Verificar entorno virtual activo\n",
    "import os\n",
    "virtual_env = os.environ.get('VIRTUAL_ENV')\n",
    "conda_env = os.environ.get('CONDA_DEFAULT_ENV')\n",
    "\n",
    "print(\"\\nEntorno virtual activo:\")\n",
    "if virtual_env:\n",
    "    print(\"venv/virtualenv:\", virtual_env)\n",
    "elif conda_env:\n",
    "    print(\"conda env:\", conda_env)\n",
    "else:\n",
    "    print(\"No hay entorno virtual activo\")\n",
    "\n",
    "# Verificar paquetes instalados\n",
    "try:\n",
    "    import pandas as pd\n",
    "    print(f\"\\nPandas version: {pd.__version__}\")\n",
    "    print(f\"Pandas location: {pd.__file__}\")\n",
    "except ImportError:\n",
    "    print(\"\\nPandas no está instalado\")"
   ]
  },
  {
   "cell_type": "markdown",
   "metadata": {},
   "source": [
    "## Resumen y próximos pasos\n",
    "\n",
    "### ¿Cuál elegir?\n",
    "\n",
    "**Para principiantes en Data Science:** Comienza con **Anaconda**\n",
    "- Incluye todo lo necesario\n",
    "- Interfaz gráfica disponible (Anaconda Navigator)\n",
    "- Excelente documentación\n",
    "\n",
    "**Para usuarios intermedios:** **Miniconda** + **conda**\n",
    "- Mayor control sobre lo que instalas\n",
    "- Más ligero\n",
    "- Misma potencia que Anaconda\n",
    "\n",
    "**Para desarrollo web o proyectos generales:** **venv** o **pipenv**\n",
    "- Más ligeros\n",
    "- Mejor integración con pip\n",
    "- Suficientes para la mayoría de proyectos\n",
    "\n",
    "### Recursos adicionales\n",
    "- [Documentación oficial de venv](https://docs.python.org/3/tutorial/venv.html)\n",
    "- [Conda User Guide](https://docs.conda.io/projects/conda/en/latest/user-guide/)\n",
    "- [Pipenv Documentation](https://pipenv.pypa.io/en/latest/)\n",
    "- [Real Python: Virtual Environments](https://realpython.com/python-virtual-environments-a-primer/)"
   ]
  },
  {
   "cell_type": "code",
   "execution_count": null,
   "metadata": {},
   "source": [
    "# ¡Felicitaciones! \n",
    "# Ya conoces todo lo necesario sobre entornos virtuales para Data Science\n",
    "\n",
    "print(\"\"\"🎉 ¡Tutorial completado! 🎉\n",
    "\n",
    "Ahora puedes:\n",
    "✅ Crear entornos virtuales con venv, virtualenv, conda y pipenv\n",
    "✅ Gestionar dependencias de manera profesional\n",
    "✅ Resolver problemas comunes\n",
    "✅ Elegir la herramienta adecuada para cada proyecto\n",
    "✅ Trabajar con Jupyter en entornos aislados\n",
    "\n",
    "¡Es hora de poner en práctica lo aprendido! 🚀\n",
    "\"\"\")"
   ]
  }
 ],
 "metadata": {
  "kernelspec": {
   "display_name": "Python 3",
   "language": "python",
   "name": "python3"
  },
  "language_info": {
   "codemirror_mode": {
    "name": "ipython",
    "version": 3
   },
   "file_extension": ".py",
   "mimetype": "text/x-python",
   "name": "python",
   "nbconvert_exporter": "python",
   "pygments_lexer": "ipython3",
   "version": "3.9.0"
  }
 },
 "nbformat": 4,
 "nbformat_minor": 4
}