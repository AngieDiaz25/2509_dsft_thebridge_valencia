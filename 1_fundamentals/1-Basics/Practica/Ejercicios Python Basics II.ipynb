{
 "cells": [
  {
   "attachments": {},
   "cell_type": "markdown",
   "metadata": {},
   "source": [
    "![imagen](./img/ejercicios.png)"
   ]
  },
  {
   "attachments": {},
   "cell_type": "markdown",
   "metadata": {},
   "source": [
    "# Ejercicios Python Basics II"
   ]
  },
  {
   "attachments": {},
   "cell_type": "markdown",
   "metadata": {},
   "source": [
    "## Ejercicio 1\n",
    "* Crea dos variables numericas: un `int` y un `float`\n",
    "* Comprueba sus tipos\n",
    "* Sumalas en otra nueva\n",
    "* ¿De qué tipo es la nueva variable?\n",
    "* Elimina las dos primeras variables creadas"
   ]
  },
  {
   "cell_type": "code",
   "execution_count": 4,
   "metadata": {},
   "outputs": [
    {
     "name": "stdout",
     "output_type": "stream",
     "text": [
      "<class 'int'>\n",
      "<class 'float'>\n",
      "<class 'float'>\n"
     ]
    }
   ],
   "source": [
    "var1 = 4\n",
    "var2 = 6.0\n",
    "\n",
    "print(type(var1))\n",
    "print(type(var2))\n",
    "\n",
    "var3 = var1 + var2 \n",
    "\n",
    "print(type(var3))\n",
    "\n",
    "del var1, var2 "
   ]
  },
  {
   "attachments": {},
   "cell_type": "markdown",
   "metadata": {},
   "source": [
    "## Ejercicio 2\n",
    "Escribe un programa para pasar de grados a radianes. Hay que usar `input`. Recuerda que la conversión se realiza mediante\n",
    "\n",
    "radianes = grados*(pi/180)"
   ]
  },
  {
   "cell_type": "code",
   "execution_count": 9,
   "metadata": {},
   "outputs": [
    {
     "name": "stdout",
     "output_type": "stream",
     "text": [
      "0.5235987755982988\n"
     ]
    }
   ],
   "source": [
    "import math\n",
    "\n",
    "degree = float(input(\"Introduce grados:\").replace(\",\",\".\")) \n",
    "radian = degree*(math.pi/180)\n",
    "print(radian)"
   ]
  },
  {
   "cell_type": "code",
   "execution_count": 16,
   "metadata": {},
   "outputs": [
    {
     "name": "stdout",
     "output_type": "stream",
     "text": [
      "el resultado es 0.52381\n",
      "el resultado es 0.52381\n"
     ]
    }
   ],
   "source": [
    "pi = 22/7 \n",
    "grados = float(input(\"grados:\").replace(\",\",\".\"))\n",
    "radianes = grados * pi/180 \n",
    "print(f\"el resultado es {radianes:.5f}\")\n",
    "print(\"el resultado es {:.5f}\".format(radianes))"
   ]
  },
  {
   "attachments": {},
   "cell_type": "markdown",
   "metadata": {},
   "source": [
    "## Ejercicio 3\n",
    "Escribe un programa que calcule el area de un paralelogramo (base x altura). También con `input`"
   ]
  },
  {
   "cell_type": "code",
   "execution_count": 17,
   "metadata": {},
   "outputs": [
    {
     "name": "stdout",
     "output_type": "stream",
     "text": [
      "1035.0\n"
     ]
    }
   ],
   "source": [
    "base = float(input(\"base\").replace(\",\" , \".\"))\n",
    "altura = float(input(\"altura\").replace(\",\" , \".\"))\n",
    "\n",
    "area = base*altura \n",
    "\n",
    "print(area)"
   ]
  },
  {
   "attachments": {},
   "cell_type": "markdown",
   "metadata": {},
   "source": [
    "## Ejercicio 4\n",
    "Tenemos las siguientes variables:\n",
    "\n",
    "```Python\n",
    "A = 4\n",
    "B = \"Text\"\n",
    "C = 4.1\n",
    "```\n",
    "\n",
    "Comprueba:\n",
    "1. Si A y B son equivalentes\n",
    "2. Si A y C NO son equivalentes\n",
    "3. Si A es mayor que C \n",
    "4. Si C es menor o igual que A\n",
    "5. Si B NO es equivalente a C"
   ]
  },
  {
   "cell_type": "code",
   "execution_count": 18,
   "metadata": {},
   "outputs": [
    {
     "name": "stdout",
     "output_type": "stream",
     "text": [
      "False\n",
      "True\n",
      "False\n",
      "False\n",
      "True\n"
     ]
    }
   ],
   "source": [
    "A = 4\n",
    "B = \"Text\"\n",
    "C = 4.1 \n",
    "\n",
    "print(A == B)\n",
    "print(A != C) \n",
    "print(A > C)\n",
    "print(C <= A)\n",
    "print(B != C )"
   ]
  },
  {
   "attachments": {},
   "cell_type": "markdown",
   "metadata": {},
   "source": [
    "## Ejercicio 5\n",
    "Crea un programa donde se recojan dos inputs del usuario, y el output del programa sea si esos inputs son iguales o no"
   ]
  },
  {
   "cell_type": "code",
   "execution_count": 20,
   "metadata": {},
   "outputs": [
    {
     "name": "stdout",
     "output_type": "stream",
     "text": [
      "True\n"
     ]
    }
   ],
   "source": [
    "inp_1 =input(\"input_1\")\n",
    "inp_2 = input(\"input 2\")\n",
    "print(inp_1 == inp_2)"
   ]
  },
  {
   "cell_type": "code",
   "execution_count": null,
   "metadata": {},
   "outputs": [
    {
     "name": "stdout",
     "output_type": "stream",
     "text": [
      "no son iguales \n"
     ]
    }
   ],
   "source": [
    "inp_1 =input(\"input_1\")\n",
    "inp_2 = input(\"input 2\")\n",
    "\n",
    "if inp_1 == inp_2:\n",
    "    print(\"son iguales\")\n",
    "else:\n",
    "    print(\"no son iguales \")\n",
    "    \n",
    "    "
   ]
  },
  {
   "attachments": {},
   "cell_type": "markdown",
   "metadata": {},
   "source": [
    "## Ejercicio 6\n",
    "Mismo programa que en 5, pero en esta ocasión tienen que ser tres inputs y dos salidas. Una de las salidas que nos indique si todos son iguales, y la otra si al menos dos inputs sí que lo son"
   ]
  },
  {
   "cell_type": "code",
   "execution_count": 26,
   "metadata": {},
   "outputs": [
    {
     "name": "stdout",
     "output_type": "stream",
     "text": [
      "todos iguales False\n",
      "almenos dos son iguales? False\n"
     ]
    }
   ],
   "source": [
    "a = input(\"input a\")\n",
    "b = input(\"imput b\")\n",
    "c = input(\"input C\")\n",
    "\n",
    "todos = a == b and a == c \n",
    "print(\"todos iguales\", todos)\n",
    "\n",
    "dos = a == b or a == c or b == c \n",
    "print(\"almenos dos son iguales?\", dos) \n",
    "\n"
   ]
  },
  {
   "cell_type": "code",
   "execution_count": 27,
   "metadata": {},
   "outputs": [
    {
     "name": "stdout",
     "output_type": "stream",
     "text": [
      "Los tres valores son iguales.\n",
      "Al menos dos valores son iguales.\n"
     ]
    }
   ],
   "source": [
    "# Pedimos tres valores al usuario\n",
    "a = input(\"Introduce el primer valor: \")\n",
    "b = input(\"Introduce el segundo valor: \")\n",
    "c = input(\"Introduce el tercer valor: \")\n",
    "\n",
    "# Comprobamos si todos son iguales\n",
    "if a == b == c:\n",
    "    print(\"Los tres valores son iguales.\")\n",
    "else:\n",
    "    print(\"Los tres valores NO son iguales.\")\n",
    "\n",
    "# Comprobamos si al menos dos son iguales\n",
    "if a == b or a == c or b == c:\n",
    "    print(\"Al menos dos valores son iguales.\")\n",
    "else:\n",
    "    print(\"Ningún valor es igual a otro.\")\n"
   ]
  },
  {
   "attachments": {},
   "cell_type": "markdown",
   "metadata": {},
   "source": [
    "## Ejercicio 7\n",
    "Crea un programa que recoja dos inputs. Tiene que comprobar si su suma es igual, superior o inferior a 10"
   ]
  },
  {
   "cell_type": "code",
   "execution_count": 28,
   "metadata": {},
   "outputs": [
    {
     "name": "stdout",
     "output_type": "stream",
     "text": [
      "es mayor que 10 True\n",
      "es menor que 10 False\n",
      "es igual que 10 False\n"
     ]
    }
   ],
   "source": [
    "inp_1 = input(\"introduce un numero del 1 al 100\")\n",
    "inp_2 = input(\"introduce un numero del 1 al 100\") \n",
    "\n",
    "suma = float(inp_1) + float(inp_2)\n",
    "\n",
    "print(\"es mayor que 10\" , suma > 10)\n",
    "print(\"es menor que 10\" , suma < 10) \n",
    "print(\"es igual que 10\" , suma == 10) "
   ]
  },
  {
   "attachments": {},
   "cell_type": "markdown",
   "metadata": {},
   "source": [
    "## Ejercicio 8\n",
    "Razona sin ejecutar código el output que obtendremos de las siguientes sentencias\n",
    "1. True and True and False\n",
    "2. not ((True or False) and (True or False))\n",
    "3. (False or False or False or True) and False\n",
    "4. not False and True and not True"
   ]
  },
  {
   "attachments": {},
   "cell_type": "markdown",
   "metadata": {},
   "source": []
  },
  {
   "attachments": {},
   "cell_type": "markdown",
   "metadata": {},
   "source": [
    "## Ejercicio 9\n",
    "Para este ejercicio vamos a poner en práctica [las funciones built in](https://docs.python.org/3/library/functions.html).\n",
    "\n",
    "1. Calcula el máximo de la lista: [4, 6, 8, -1]\n",
    "2. Suma todos los elementos de la lista anterior\n",
    "3. Redondea este float a 3 dígitos decimales: 63.451256965\n",
    "4. Valor absoluto de: -74"
   ]
  },
  {
   "cell_type": "code",
   "execution_count": 37,
   "metadata": {},
   "outputs": [
    {
     "name": "stdout",
     "output_type": "stream",
     "text": [
      "74\n",
      "74\n"
     ]
    }
   ],
   "source": [
    "lista = [4, 6, 8, -1]\n",
    "\n",
    "max(lista)\n",
    "\n",
    "min(lista)\n",
    "\n",
    "sum(lista)\n",
    "\n",
    "round(63.451256965, 3)\n",
    "\n",
    "print(abs(-74))\n",
    "\n",
    "import math \n",
    "print(int(math.fabs(-74)))\n",
    "\n"
   ]
  },
  {
   "attachments": {},
   "cell_type": "markdown",
   "metadata": {},
   "source": [
    "## Ejercicio 10\n",
    "Para el siguiente string se pide imprimir por pantalla los siguientes casos\n",
    "\n",
    "    \"En un lugar de la Mancha, de cuyo nombre no quiero acordarme.\"\n",
    "\n",
    "1. Pásalo todo a mayúsculas\n",
    "2. Pásalo todo a minúsculas\n",
    "3. Solo la primera letra de cada palabra en mayúscula, el resto en minúscula\n",
    "4. Crea una lista dividiéndolo por sus espacios\n",
    "5. Sustituye las comas `,` por puntos y comas `;`\n",
    "6. Elimina las `a` minúsculas"
   ]
  },
  {
   "cell_type": "code",
   "execution_count": 41,
   "metadata": {},
   "outputs": [
    {
     "name": "stdout",
     "output_type": "stream",
     "text": [
      "EN UN LUGAR DE LA MANCHA, DE CUYO NOMBRE NO QUIERO ACORDARME.\n",
      "en un lugar de la mancha, de cuyo nombre no quiero acordarme.\n",
      "En Un Lugar De La Mancha, De Cuyo Nombre No Quiero Acordarme.\n",
      "['En', 'un', 'lugar', 'de', 'la', 'Mancha,', 'de', 'cuyo', 'nombre', 'no', 'quiero', 'acordarme.']\n",
      "En un lugar de la Mancha ; de cuyo nombre no quiero acordarme.\n",
      "En un lugr de l Mnch, de cuyo nombre no quiero cordrme.\n",
      "holamundo\n"
     ]
    }
   ],
   "source": [
    "ej_10 = \"En un lugar de la Mancha, de cuyo nombre no quiero acordarme.\"\n",
    "\n",
    "print(ej_10.upper()) \n",
    "print(ej_10.lower())\n",
    "print(ej_10.title())\n",
    "print(ej_10.split(' '))\n",
    "print(ej_10.replace(\",\" , \" ;\")) \n",
    "print(ej_10.replace(\"a\" , \"\")) \n",
    "\n",
    "texto = \"aaaaaaaaaholamundoaaaaaaa\"\n",
    "print(texto.strip(\"a\"))\n",
    "\n",
    "\n",
    "\n"
   ]
  },
  {
   "attachments": {},
   "cell_type": "markdown",
   "metadata": {},
   "source": [
    "## Ejercicio 11\n",
    "1. Crea una lista con 3 elementos numéricos\n",
    "2. Añade un cuarto elemento\n",
    "3. Calcula la suma de todos\n",
    "4. Elimina el segundo elemento de la lista\n",
    "5. Añade otro elemento en la posicion 3 de la lista\n",
    "6. Crea otra lista con 4 elementos y concaténala a la que ya tenías."
   ]
  },
  {
   "cell_type": "code",
   "execution_count": 50,
   "metadata": {},
   "outputs": [
    {
     "name": "stdout",
     "output_type": "stream",
     "text": [
      "[1, 2, 3]\n",
      "[1, 2, 3, 4]\n",
      "10\n",
      "[1, 3, 4]\n",
      "[1, 3, 3, 4]\n",
      "[1, 3, 3, 4, 5, 6, 7, 8]\n"
     ]
    }
   ],
   "source": [
    "list_11 = [1,2,3]\n",
    "\n",
    "print(list_11) \n",
    "\n",
    "list_11.append(4) \n",
    "\n",
    "print(list_11)\n",
    "\n",
    "print(sum(list_11))\n",
    "\n",
    "list_11.pop(1)\n",
    "\n",
    "print(list_11)\n",
    "\n",
    "list_11.insert(2,3)\n",
    "print(list_11)\n",
    "\n",
    "lis_2 = [5,6,7,8]\n",
    "\n",
    "print(list_11 + lis_2)"
   ]
  }
 ],
 "metadata": {
  "kernelspec": {
   "display_name": "Python 3",
   "language": "python",
   "name": "python3"
  },
  "language_info": {
   "codemirror_mode": {
    "name": "ipython",
    "version": 3
   },
   "file_extension": ".py",
   "mimetype": "text/x-python",
   "name": "python",
   "nbconvert_exporter": "python",
   "pygments_lexer": "ipython3",
   "version": "3.11.9"
  }
 },
 "nbformat": 4,
 "nbformat_minor": 4
}
