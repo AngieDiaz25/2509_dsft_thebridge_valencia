{
 "cells": [
  {
   "cell_type": "markdown",
   "metadata": {},
   "source": [
    "![imagen](./img/ejercicios.png)"
   ]
  },
  {
   "cell_type": "markdown",
   "metadata": {},
   "source": [
    "# Ejercicios funciones\n",
    "## Ejercicio 1\n",
    "Escribe una función que convierta números del 1 al 7 en nombres de los dias de la semana. La función constará de un único argumento numérico y una salida de tipo string"
   ]
  },
  {
   "cell_type": "code",
   "execution_count": 1,
   "metadata": {},
   "outputs": [],
   "source": [
    "def dia_semana(dia_num):\n",
    "    if dia_num == 1:\n",
    "        return \"Lunes\"\n",
    "    elif dia_num == 2:\n",
    "        return \"Marte\"\n",
    "    elif dia_num == 3:\n",
    "        return \"Miercoles\"\n",
    "    elif dia_num == 4:\n",
    "        return \"Jueves\"\n",
    "    elif dia_num == 5:\n",
    "        return \"Viernes\"\n",
    "    elif dia_num == 6:\n",
    "        return \"Sabaso\"\n",
    "    elif dia_num == 7:\n",
    "        return \"Domingo\"\n",
    "    else:\n",
    "        return \"No es un dia de la semana\""
   ]
  },
  {
   "cell_type": "code",
   "execution_count": 5,
   "metadata": {},
   "outputs": [
    {
     "name": "stdout",
     "output_type": "stream",
     "text": [
      "No es un dia de la semana\n"
     ]
    }
   ],
   "source": [
    "print(dia_semana(13))"
   ]
  },
  {
   "cell_type": "code",
   "execution_count": 6,
   "metadata": {},
   "outputs": [],
   "source": [
    "def dias_semana(num):\n",
    "    dias = {\n",
    "        1:\"Lunes\",\n",
    "        2:\"Martes\",\n",
    "        3: \"Miercoles\",\n",
    "        4: \"Jueves\",\n",
    "        5: \"Viernes\", \n",
    "        6: \"Sabado\",\n",
    "        7: \"Domingo\"\n",
    "    }\n",
    "    \n",
    "    return dias.get(num, \"no es un dia de la semana\")"
   ]
  },
  {
   "cell_type": "code",
   "execution_count": 9,
   "metadata": {},
   "outputs": [
    {
     "name": "stdout",
     "output_type": "stream",
     "text": [
      "Sabado\n"
     ]
    }
   ],
   "source": [
    "print(dias_semana(6))"
   ]
  },
  {
   "cell_type": "markdown",
   "metadata": {},
   "source": [
    "## Ejercicio 2\n",
    "En el ejercicio 8 de flujos de control, creábamos una pirámide invertida de números desde el 5. Crea una función que replique el comportamiento de la pirámide, y utiliza un único parámetro de entrada de la función para determinar el número de filas de la pirámide."
   ]
  },
  {
   "cell_type": "code",
   "execution_count": 10,
   "metadata": {},
   "outputs": [],
   "source": [
    "def piramide_invertida(filas:int):\n",
    "    for i in range(filas,0,-1):\n",
    "        print(\"*\" * i)"
   ]
  },
  {
   "cell_type": "code",
   "execution_count": 12,
   "metadata": {},
   "outputs": [
    {
     "name": "stdout",
     "output_type": "stream",
     "text": [
      "**********\n",
      "*********\n",
      "********\n",
      "*******\n",
      "******\n",
      "*****\n",
      "****\n",
      "***\n",
      "**\n",
      "*\n"
     ]
    }
   ],
   "source": [
    "piramide_invertida(10)"
   ]
  },
  {
   "cell_type": "markdown",
   "metadata": {},
   "source": [
    "## Ejercicio 3\n",
    "Escribe una función que compare dos números. La función tiene dos argumentos y hay tres salidas posibles: que sean iguales, que el primero sea  mayor que el segundo, o que el segundo sea mayor que el primero"
   ]
  },
  {
   "cell_type": "code",
   "execution_count": 17,
   "metadata": {},
   "outputs": [],
   "source": [
    "def compare_fun(num_1, num_2):\n",
    "    if num_1 == num_2:\n",
    "        return \"Son iguales\"\n",
    "    elif num_1 > num_2:\n",
    "        return f\"{num_1} es mayor que {num_2}\"\n",
    "    else:\n",
    "        return f\"{num_2} es mayor que {num_1}\"\n",
    "    \n",
    "    "
   ]
  },
  {
   "cell_type": "code",
   "execution_count": 19,
   "metadata": {},
   "outputs": [
    {
     "name": "stdout",
     "output_type": "stream",
     "text": [
      "3 es mayor que 2\n"
     ]
    }
   ],
   "source": [
    "print(compare_fun(3,2))"
   ]
  },
  {
   "attachments": {},
   "cell_type": "markdown",
   "metadata": {},
   "source": [
    "## Ejercicio 4\n",
    "Escribe una función que sea un contador de letras. En el primer argumento tienes que introducir un texto, y el segundo que sea una letra que contar. La función tiene que devolver un entero con el número de veces que aparece esa letra, tanto mayúscula, como minúscula"
   ]
  },
  {
   "cell_type": "code",
   "execution_count": 20,
   "metadata": {},
   "outputs": [],
   "source": [
    "def letter_count(texto, letra):\n",
    "    texto = texto.lower() \n",
    "    return texto.count(letra.lower()) "
   ]
  },
  {
   "cell_type": "code",
   "execution_count": 25,
   "metadata": {},
   "outputs": [
    {
     "name": "stdout",
     "output_type": "stream",
     "text": [
      "6\n"
     ]
    }
   ],
   "source": [
    "print(letter_count(\"En este clasE aprendEmos python\", \"E\"))"
   ]
  },
  {
   "cell_type": "markdown",
   "metadata": {},
   "source": [
    "## Ejercicio 5\n",
    "Escribe una función que tenga un único argumento, un string. La salida de la función tiene que ser un diccionario con el conteo de todas las letras de ese string, siendo la clave la letra y el valor el conteo."
   ]
  },
  {
   "cell_type": "code",
   "execution_count": 26,
   "metadata": {},
   "outputs": [],
   "source": [
    "def contar_letras(texto):\n",
    "    todas_letras = {} \n",
    "    \n",
    "    for caracter in texto.lower():\n",
    "        if caracter in todas_letras:\n",
    "            todas_letras[caracter] = todas_letras[caracter] + 1 \n",
    "        else:\n",
    "            todas_letras[caracter] = 1 \n",
    "    return todas_letras\n"
   ]
  },
  {
   "cell_type": "code",
   "execution_count": 27,
   "metadata": {},
   "outputs": [
    {
     "data": {
      "text/plain": [
       "{'e': 6,\n",
       " 'n': 3,\n",
       " ' ': 4,\n",
       " 's': 3,\n",
       " 't': 2,\n",
       " 'c': 1,\n",
       " 'l': 1,\n",
       " 'a': 2,\n",
       " 'p': 2,\n",
       " 'r': 1,\n",
       " 'd': 1,\n",
       " 'm': 1,\n",
       " 'o': 2,\n",
       " 'y': 1,\n",
       " 'h': 1}"
      ]
     },
     "execution_count": 27,
     "metadata": {},
     "output_type": "execute_result"
    }
   ],
   "source": [
    "contar_letras(\"En este clasE aprendEmos python\")"
   ]
  },
  {
   "cell_type": "code",
   "execution_count": 33,
   "metadata": {},
   "outputs": [],
   "source": [
    "from collections import Counter \n",
    "\n",
    "def contar_letras2(texto): \n",
    "    return dict(Counter(texto.lower())) "
   ]
  },
  {
   "cell_type": "code",
   "execution_count": 35,
   "metadata": {},
   "outputs": [
    {
     "data": {
      "text/plain": [
       "{'e': 6,\n",
       " 'n': 3,\n",
       " ' ': 4,\n",
       " 's': 3,\n",
       " 't': 2,\n",
       " 'c': 1,\n",
       " 'l': 1,\n",
       " 'a': 2,\n",
       " 'p': 2,\n",
       " 'r': 1,\n",
       " 'd': 1,\n",
       " 'm': 1,\n",
       " 'o': 2,\n",
       " 'y': 1,\n",
       " 'h': 1}"
      ]
     },
     "execution_count": 35,
     "metadata": {},
     "output_type": "execute_result"
    }
   ],
   "source": [
    "conteo = contar_letras2(\"En este clasE aprendEmos python\")\n",
    "conteo"
   ]
  },
  {
   "cell_type": "markdown",
   "metadata": {},
   "source": [
    "## Ejercicio 6\n",
    "Escribir una función que añada o elimine elementos en una lista. La función necesita los siguientes argumentos:\n",
    "* lista: la lista donde se añadirán o eliminarán los elementos\n",
    "* comando: \"add\" o \"remove\"\n",
    "* elemento: Por defecto es None.\n",
    "\n",
    "Tendrá como salida la lista"
   ]
  },
  {
   "cell_type": "code",
   "execution_count": 39,
   "metadata": {},
   "outputs": [],
   "source": [
    "def listas_program (lista, comando, elemento = None):\n",
    "    if comando == \"add\" and elemento != None:\n",
    "        lista.append(elemento)\n",
    "        \n",
    "    elif comando == \"add\" and elemento == None:\n",
    "        lista.append(9999) \n",
    "        print(\"añadido el\" , 9999, \"porque no se intrudujo valor\")\n",
    "        \n",
    "    elif comando == \"remove\" and elemento != None:\n",
    "        try: \n",
    "            lista.remove(elemento) \n",
    "        except:\n",
    "            print(\"El elemento\", elemento, \"no existe en la lista\")\n",
    "            \n",
    "    elif comando == \"remove\" and elemento == None: \n",
    "        print(\"No se ha introducido un elemento\")\n",
    "    else:\n",
    "        print(\"error\")\n",
    "    \n",
    "    return lista"
   ]
  },
  {
   "cell_type": "code",
   "execution_count": 43,
   "metadata": {},
   "outputs": [
    {
     "name": "stdout",
     "output_type": "stream",
     "text": [
      "[1, 2, 3, 9]\n",
      "añadido el 9999 porque no se intrudujo valor\n",
      "[1, 2, 3, 9999]\n",
      "[1, 3]\n",
      "El elemento 120 no existe en la lista\n",
      "[1, 2, 3]\n",
      "error\n",
      "[1, 2, 3]\n"
     ]
    }
   ],
   "source": [
    "print(listas_program([1,2,3],\"add\", 9 ))\n",
    "print(listas_program([1,2,3],\"add\", ))\n",
    "print(listas_program([1,2,3],\"remove\", 2))\n",
    "print(listas_program([1,2,3],\"remove\",120 )) \n",
    "print(listas_program([1,2,3],\"addd\", 10))\n"
   ]
  },
  {
   "cell_type": "markdown",
   "metadata": {},
   "source": [
    "## Ejercicio 7\n",
    "Crea una función que reciba un número arbitrario de palabras, y devuelva una frase completa, separando las palabras con espacios."
   ]
  },
  {
   "cell_type": "code",
   "execution_count": 44,
   "metadata": {},
   "outputs": [],
   "source": [
    "def juntar_palabras (*args):\n",
    "    return \" \".join(args)"
   ]
  },
  {
   "cell_type": "code",
   "execution_count": 45,
   "metadata": {},
   "outputs": [
    {
     "data": {
      "text/plain": [
       "'hola me llamo borja y aqui no  llueve'"
      ]
     },
     "execution_count": 45,
     "metadata": {},
     "output_type": "execute_result"
    }
   ],
   "source": [
    "juntar_palabras(\"hola\", \"me\", \"llamo\" ,\"borja\", \"y\", \"aqui\", \"no \", \"llueve\") "
   ]
  },
  {
   "cell_type": "markdown",
   "metadata": {},
   "source": [
    "## Ejercicio 8\n",
    "Escribe un programa que obtenga el enésimo número de la [serie de Fibonacci](https://es.wikipedia.org/wiki/Sucesi%C3%B3n_de_Fibonacci). Tienes que crear una función recursiva con un único argumento.\n",
    "\n",
    "```Python\n",
    "fibonacci(2) = 1\n",
    "fibonacci(4) = 3\n",
    "fibonacci(5) = 5\n",
    "fibonacci(8) = 21\n",
    "```"
   ]
  },
  {
   "cell_type": "markdown",
   "metadata": {},
   "source": [
    "fibonacci(n) = fibonacci(n-1) + fibonacci(n-2)"
   ]
  },
  {
   "cell_type": "code",
   "execution_count": 47,
   "metadata": {},
   "outputs": [],
   "source": [
    "def fibonacci(n):\n",
    "    if n == 1 or n == 2:\n",
    "        return 1 \n",
    "    elif n == 0: \n",
    "        return 0 \n",
    "    else: \n",
    "        return (fibonacci(n-1) + (fibonacci(n-2)))"
   ]
  },
  {
   "cell_type": "code",
   "execution_count": 53,
   "metadata": {},
   "outputs": [
    {
     "name": "stdout",
     "output_type": "stream",
     "text": [
      "28657\n"
     ]
    }
   ],
   "source": [
    "print(fibonacci(23))"
   ]
  },
  {
   "attachments": {},
   "cell_type": "markdown",
   "metadata": {},
   "source": [
    "## Ejercicio 9\n",
    "Define en una única celda las siguientes funciones:\n",
    "* Función que calcule el área de un cuadrado\n",
    "* Función que calcule el área de un triángulo\n",
    "* Función que calcule el área de un círculo\n",
    "\n",
    "En otra celda, calcular el area de:\n",
    "* Dos círculos de radio 10 + un triángulo de base 3 y altura 7\n",
    "* Un cuadrado de lado = 10 + 3 círculos (uno de radio = 4 y los otros dos de radio = 6) + 5 triángulos de base = 2 + altura = 4"
   ]
  },
  {
   "cell_type": "code",
   "execution_count": 56,
   "metadata": {},
   "outputs": [],
   "source": [
    "def cuadrado (lado):\n",
    "    return lado * lado \n",
    "\n",
    "def triangulo(base, altura):\n",
    "    return (base * altura)/2 \n",
    "\n",
    "def circulo (radio):\n",
    "    import math\n",
    "    return math.pi * radio**2 "
   ]
  },
  {
   "cell_type": "code",
   "execution_count": 66,
   "metadata": {},
   "outputs": [
    {
     "name": "stdout",
     "output_type": "stream",
     "text": [
      "638.8185307179587\n",
      "396.46015351590177\n"
     ]
    }
   ],
   "source": [
    "cir = 2 *circulo(10 ) \n",
    "tri = triangulo(3,7) \n",
    "print(cir + tri) \n",
    "\n",
    "cuad2 = cuadrado(10) \n",
    "cir2 = circulo(4) + 2*circulo(6)\n",
    "tri2 = 5 * triangulo(2,4)\n",
    "\n",
    "print(cuad2 + cir2 + tri2)\n"
   ]
  },
  {
   "cell_type": "markdown",
   "metadata": {},
   "source": [
    "## Ejercicio 10\n",
    "\n",
    "Guarda las funciones de estos ejercicios en un fichero llamado `funciones.py` e importalas desde este jupyter notebook para probar que puedes hacer uso de ellas."
   ]
  }
 ],
 "metadata": {
  "kernelspec": {
   "display_name": "Python 3",
   "language": "python",
   "name": "python3"
  },
  "language_info": {
   "codemirror_mode": {
    "name": "ipython",
    "version": 3
   },
   "file_extension": ".py",
   "mimetype": "text/x-python",
   "name": "python",
   "nbconvert_exporter": "python",
   "pygments_lexer": "ipython3",
   "version": "3.11.9"
  }
 },
 "nbformat": 4,
 "nbformat_minor": 4
}
